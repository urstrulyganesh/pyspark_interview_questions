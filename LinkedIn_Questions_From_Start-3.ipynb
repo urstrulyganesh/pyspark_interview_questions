{
 "cells": [
  {
   "cell_type": "markdown",
   "metadata": {
    "application/vnd.databricks.v1+cell": {
     "cellMetadata": {},
     "inputWidgets": {},
     "nuid": "816c083d-f731-443c-b349-4ae64acb3309",
     "showTitle": false,
     "tableResultSettingsMap": {},
     "title": ""
    }
   },
   "source": [
    "# 12\n",
    "You have a dataset of transactions that contains the following fields:\n",
    "transaction_id (integer): Unique ID for each transaction.\n",
    "user_id (integer): ID of the user performing the transaction.\n",
    "transaction_amount (float): Amount of the transaction.\n",
    "transaction_date (string): Date of the transaction in yyyy-MM-dd format.\n",
    "From this dataset, perform the following operations:\n",
    "Find the top 3 users with the highest total transaction amounts.\n",
    "Among these top 3 users, for each, identify the most recent transaction date.\n"
   ]
  },
  {
   "cell_type": "markdown",
   "metadata": {
    "application/vnd.databricks.v1+cell": {
     "cellMetadata": {},
     "inputWidgets": {},
     "nuid": "92e176cc-9811-479a-b109-23b987ba51b9",
     "showTitle": false,
     "tableResultSettingsMap": {},
     "title": ""
    }
   },
   "source": [
    "data = [ (1, 101, 500.0, \"2024-01-01\"), (2, 102, 200.0, \"2024-01-02\"), \n",
    "(3, 101, 300.0, \"2024-01-03\"), (4, 103, 100.0, \"2024-01-04\"), \n",
    "(5, 102, 400.0, \"2024-01-05\"), (6, 103, 600.0, \"2024-01-06\"), \n",
    "(7, 101, 200.0, \"2024-01-07\"), ] \n",
    "\n",
    "columns = [\"transaction_id\", \"user_id\", \"transaction_amount\", \"transaction_date\"]"
   ]
  },
  {
   "cell_type": "code",
   "execution_count": 0,
   "metadata": {
    "application/vnd.databricks.v1+cell": {
     "cellMetadata": {
      "byteLimit": 2048000,
      "rowLimit": 10000
     },
     "inputWidgets": {},
     "nuid": "cfa46a73-5c50-400a-be2f-1bff0c47dd93",
     "showTitle": false,
     "tableResultSettingsMap": {},
     "title": ""
    }
   },
   "outputs": [
    {
     "output_type": "display_data",
     "data": {
      "text/html": [
       "<style scoped>\n",
       "  .table-result-container {\n",
       "    max-height: 300px;\n",
       "    overflow: auto;\n",
       "  }\n",
       "  table, th, td {\n",
       "    border: 1px solid black;\n",
       "    border-collapse: collapse;\n",
       "  }\n",
       "  th, td {\n",
       "    padding: 5px;\n",
       "  }\n",
       "  th {\n",
       "    text-align: left;\n",
       "  }\n",
       "</style><div class='table-result-container'><table class='table-result'><thead style='background-color: white'><tr><th>user_id</th><th>average_transaction_amount</th></tr></thead><tbody><tr><td>101</td><td>333.3333333333333</td></tr></tbody></table></div>"
      ]
     },
     "metadata": {
      "application/vnd.databricks.v1+output": {
       "addedWidgets": {},
       "aggData": [],
       "aggError": "",
       "aggOverflow": false,
       "aggSchema": [],
       "aggSeriesLimitReached": false,
       "aggType": "",
       "arguments": {},
       "columnCustomDisplayInfos": {},
       "data": [
        [
         101,
         333.3333333333333
        ]
       ],
       "datasetInfos": [],
       "dbfsResultPath": null,
       "isJsonSchema": true,
       "metadata": {},
       "overflow": false,
       "plotOptions": {
        "customPlotOptions": {},
        "displayType": "table",
        "pivotAggregation": null,
        "pivotColumns": null,
        "xColumns": null,
        "yColumns": null
       },
       "removedWidgets": [],
       "schema": [
        {
         "metadata": "{}",
         "name": "user_id",
         "type": "\"long\""
        },
        {
         "metadata": "{}",
         "name": "average_transaction_amount",
         "type": "\"double\""
        }
       ],
       "type": "table"
      }
     },
     "output_type": "display_data"
    }
   ],
   "source": [
    "from pyspark.sql import SparkSession\n",
    "from pyspark.sql.functions import col, countDistinct, avg\n",
    "\n",
    "# Initialize Spark\n",
    "spark = SparkSession.builder.getOrCreate()\n",
    "\n",
    "# Step 1: Create DataFrame\n",
    "data = [\n",
    "    (1, 101, 500.0, \"2024-01-01\"), \n",
    "    (2, 102, 200.0, \"2024-01-02\"), \n",
    "    (3, 101, 300.0, \"2024-01-03\"), \n",
    "    (4, 103, 100.0, \"2024-01-04\"), \n",
    "    (5, 102, 400.0, \"2024-01-05\"), \n",
    "    (6, 103, 600.0, \"2024-01-06\"), \n",
    "    (7, 101, 200.0, \"2024-01-07\"),\n",
    "]\n",
    "columns = [\"transaction_id\", \"user_id\", \"transaction_amount\", \"transaction_date\"]\n",
    "\n",
    "df = spark.createDataFrame(data, columns)\n",
    "\n",
    "# Step 2: Count distinct dates per user\n",
    "df_date_count = df.groupBy(\"user_id\")\\\n",
    "    .agg(countDistinct(\"transaction_date\").alias(\"date_count\"))\n",
    "\n",
    "# Step 3: Filter users with >= 3 transaction dates\n",
    "df_filtered_users = df_date_count.filter(col(\"date_count\") >= 3)\n",
    "\n",
    "# Step 4: Join with original to get only relevant users\n",
    "df_joined = df.join(df_filtered_users, on=\"user_id\", how=\"inner\")\n",
    "\n",
    "# Step 5: Calculate average transaction amount\n",
    "df_result = df_joined.groupBy(\"user_id\")\\\n",
    "    .agg(avg(\"transaction_amount\").alias(\"average_transaction_amount\"))\n",
    "\n",
    "df_result.display()\n"
   ]
  }
 ],
 "metadata": {
  "application/vnd.databricks.v1+notebook": {
   "computePreferences": null,
   "dashboards": [],
   "environmentMetadata": {
    "base_environment": "",
    "environment_version": "2"
   },
   "inputWidgetPreferences": null,
   "language": "python",
   "notebookMetadata": {
    "pythonIndentUnit": 4
   },
   "notebookName": "LinkedIn_Questions_From_Start-3",
   "widgets": {}
  },
  "language_info": {
   "name": "python"
  }
 },
 "nbformat": 4,
 "nbformat_minor": 0
}