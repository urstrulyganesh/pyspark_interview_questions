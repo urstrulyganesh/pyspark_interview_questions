{
 "cells": [
  {
   "cell_type": "markdown",
   "metadata": {
    "application/vnd.databricks.v1+cell": {
     "cellMetadata": {},
     "inputWidgets": {},
     "nuid": "c7282839-b6cb-4587-91e2-830aa7067e0d",
     "showTitle": false,
     "tableResultSettingsMap": {},
     "title": ""
    }
   },
   "source": [
    "# 8"
   ]
  },
  {
   "cell_type": "markdown",
   "metadata": {
    "application/vnd.databricks.v1+cell": {
     "cellMetadata": {},
     "inputWidgets": {},
     "nuid": "e5343fd8-1f7f-4924-993e-c9feb62bd59c",
     "showTitle": false,
     "tableResultSettingsMap": {},
     "title": ""
    }
   },
   "source": [
    "Given employee data with columns:\n",
    "employee_id, department, salary, join_date\n",
    "\n",
    "You need to:\n",
    "\n",
    "Calculate cumulative salary within each department, ordered by join_date.\n",
    "\n",
    "Assign dense rank within each department based on salary in descending order."
   ]
  },
  {
   "cell_type": "code",
   "execution_count": 0,
   "metadata": {
    "application/vnd.databricks.v1+cell": {
     "cellMetadata": {
      "byteLimit": 2048000,
      "rowLimit": 10000
     },
     "inputWidgets": {},
     "nuid": "c262fc80-94b1-411d-8bf4-5a2c600acaae",
     "showTitle": false,
     "tableResultSettingsMap": {},
     "title": ""
    }
   },
   "outputs": [],
   "source": [
    "from pyspark.sql import SparkSession\n",
    "from pyspark.sql.functions import col, sum as _sum\n",
    "from pyspark.sql.window import Window\n",
    "from pyspark.sql.functions import dense_rank\n",
    "\n",
    "# Start Spark session\n",
    "spark = SparkSession.builder.getOrCreate()\n",
    "\n",
    "# Sample data\n",
    "data = [\n",
    "    (1, \"HR\", 50000, \"2022-01-01\"),\n",
    "    (2, \"IT\", 70000, \"2021-06-15\"),\n",
    "    (3, \"HR\", 60000, \"2023-03-10\"),\n",
    "    (4, \"IT\", 80000, \"2020-12-01\")\n",
    "]\n",
    "columns = [\"employee_id\", \"department\", \"salary\", \"join_date\"]\n",
    "\n",
    "# Create DataFrame\n",
    "df_8= spark.createDataFrame(data, columns)\n"
   ]
  },
  {
   "cell_type": "code",
   "execution_count": 0,
   "metadata": {
    "application/vnd.databricks.v1+cell": {
     "cellMetadata": {
      "byteLimit": 2048000,
      "rowLimit": 10000
     },
     "inputWidgets": {},
     "nuid": "32913210-4a0d-4fe1-83eb-ed25ea9e009d",
     "showTitle": false,
     "tableResultSettingsMap": {},
     "title": ""
    }
   },
   "outputs": [
    {
     "output_type": "display_data",
     "data": {
      "text/html": [
       "<style scoped>\n",
       "  .table-result-container {\n",
       "    max-height: 300px;\n",
       "    overflow: auto;\n",
       "  }\n",
       "  table, th, td {\n",
       "    border: 1px solid black;\n",
       "    border-collapse: collapse;\n",
       "  }\n",
       "  th, td {\n",
       "    padding: 5px;\n",
       "  }\n",
       "  th {\n",
       "    text-align: left;\n",
       "  }\n",
       "</style><div class='table-result-container'><table class='table-result'><thead style='background-color: white'><tr><th>employee_id</th><th>department</th><th>salary</th><th>join_date</th></tr></thead><tbody><tr><td>1</td><td>HR</td><td>50000</td><td>2022-01-01</td></tr><tr><td>2</td><td>IT</td><td>70000</td><td>2021-06-15</td></tr><tr><td>3</td><td>HR</td><td>60000</td><td>2023-03-10</td></tr><tr><td>4</td><td>IT</td><td>80000</td><td>2020-12-01</td></tr></tbody></table></div>"
      ]
     },
     "metadata": {
      "application/vnd.databricks.v1+output": {
       "addedWidgets": {},
       "aggData": [],
       "aggError": "",
       "aggOverflow": false,
       "aggSchema": [],
       "aggSeriesLimitReached": false,
       "aggType": "",
       "arguments": {},
       "columnCustomDisplayInfos": {},
       "data": [
        [
         1,
         "HR",
         50000,
         "2022-01-01"
        ],
        [
         2,
         "IT",
         70000,
         "2021-06-15"
        ],
        [
         3,
         "HR",
         60000,
         "2023-03-10"
        ],
        [
         4,
         "IT",
         80000,
         "2020-12-01"
        ]
       ],
       "datasetInfos": [],
       "dbfsResultPath": null,
       "isJsonSchema": true,
       "metadata": {},
       "overflow": false,
       "plotOptions": {
        "customPlotOptions": {},
        "displayType": "table",
        "pivotAggregation": null,
        "pivotColumns": null,
        "xColumns": null,
        "yColumns": null
       },
       "removedWidgets": [],
       "schema": [
        {
         "metadata": "{}",
         "name": "employee_id",
         "type": "\"long\""
        },
        {
         "metadata": "{}",
         "name": "department",
         "type": "\"string\""
        },
        {
         "metadata": "{}",
         "name": "salary",
         "type": "\"long\""
        },
        {
         "metadata": "{}",
         "name": "join_date",
         "type": "\"string\""
        }
       ],
       "type": "table"
      }
     },
     "output_type": "display_data"
    }
   ],
   "source": [
    "df_8.display()"
   ]
  },
  {
   "cell_type": "code",
   "execution_count": 0,
   "metadata": {
    "application/vnd.databricks.v1+cell": {
     "cellMetadata": {
      "byteLimit": 2048000,
      "rowLimit": 10000
     },
     "inputWidgets": {},
     "nuid": "9efdded8-ba65-457a-af4d-13241bd55c30",
     "showTitle": false,
     "tableResultSettingsMap": {},
     "title": ""
    }
   },
   "outputs": [
    {
     "output_type": "stream",
     "name": "stdout",
     "output_type": "stream",
     "text": [
      "root\n |-- employee_id: long (nullable = true)\n |-- department: string (nullable = true)\n |-- salary: long (nullable = true)\n |-- join_date: date (nullable = true)\n\n"
     ]
    }
   ],
   "source": [
    "\n",
    "df_8.printSchema()"
   ]
  },
  {
   "cell_type": "code",
   "execution_count": 0,
   "metadata": {
    "application/vnd.databricks.v1+cell": {
     "cellMetadata": {
      "byteLimit": 2048000,
      "rowLimit": 10000
     },
     "inputWidgets": {},
     "nuid": "2779da79-1c18-4a08-a145-6f373ab0bb29",
     "showTitle": false,
     "tableResultSettingsMap": {},
     "title": ""
    }
   },
   "outputs": [],
   "source": [
    "df_8=df_8.withColumn(\"join_date\",col(\"join_date\").cast(\"date\"))"
   ]
  },
  {
   "cell_type": "code",
   "execution_count": 0,
   "metadata": {
    "application/vnd.databricks.v1+cell": {
     "cellMetadata": {
      "byteLimit": 2048000,
      "rowLimit": 10000
     },
     "inputWidgets": {},
     "nuid": "aee82f46-8429-4d63-81a4-e5d92d8444f7",
     "showTitle": false,
     "tableResultSettingsMap": {},
     "title": ""
    }
   },
   "outputs": [
    {
     "output_type": "display_data",
     "data": {
      "text/html": [
       "<style scoped>\n",
       "  .table-result-container {\n",
       "    max-height: 300px;\n",
       "    overflow: auto;\n",
       "  }\n",
       "  table, th, td {\n",
       "    border: 1px solid black;\n",
       "    border-collapse: collapse;\n",
       "  }\n",
       "  th, td {\n",
       "    padding: 5px;\n",
       "  }\n",
       "  th {\n",
       "    text-align: left;\n",
       "  }\n",
       "</style><div class='table-result-container'><table class='table-result'><thead style='background-color: white'><tr><th>employee_id</th><th>department</th><th>salary</th><th>join_date</th><th>cumulative_salary</th><th>dense_rank</th></tr></thead><tbody><tr><td>1</td><td>HR</td><td>50000</td><td>2022-01-01</td><td>50000</td><td>2</td></tr><tr><td>3</td><td>HR</td><td>60000</td><td>2023-03-10</td><td>110000</td><td>1</td></tr><tr><td>4</td><td>IT</td><td>80000</td><td>2020-12-01</td><td>80000</td><td>1</td></tr><tr><td>2</td><td>IT</td><td>70000</td><td>2021-06-15</td><td>150000</td><td>2</td></tr></tbody></table></div>"
      ]
     },
     "metadata": {
      "application/vnd.databricks.v1+output": {
       "addedWidgets": {},
       "aggData": [],
       "aggError": "",
       "aggOverflow": false,
       "aggSchema": [],
       "aggSeriesLimitReached": false,
       "aggType": "",
       "arguments": {},
       "columnCustomDisplayInfos": {},
       "data": [
        [
         1,
         "HR",
         50000,
         "2022-01-01",
         50000,
         2
        ],
        [
         3,
         "HR",
         60000,
         "2023-03-10",
         110000,
         1
        ],
        [
         4,
         "IT",
         80000,
         "2020-12-01",
         80000,
         1
        ],
        [
         2,
         "IT",
         70000,
         "2021-06-15",
         150000,
         2
        ]
       ],
       "datasetInfos": [],
       "dbfsResultPath": null,
       "isJsonSchema": true,
       "metadata": {},
       "overflow": false,
       "plotOptions": {
        "customPlotOptions": {},
        "displayType": "table",
        "pivotAggregation": null,
        "pivotColumns": null,
        "xColumns": null,
        "yColumns": null
       },
       "removedWidgets": [],
       "schema": [
        {
         "metadata": "{}",
         "name": "employee_id",
         "type": "\"long\""
        },
        {
         "metadata": "{}",
         "name": "department",
         "type": "\"string\""
        },
        {
         "metadata": "{}",
         "name": "salary",
         "type": "\"long\""
        },
        {
         "metadata": "{}",
         "name": "join_date",
         "type": "\"date\""
        },
        {
         "metadata": "{}",
         "name": "cumulative_salary",
         "type": "\"long\""
        },
        {
         "metadata": "{}",
         "name": "dense_rank",
         "type": "\"integer\""
        }
       ],
       "type": "table"
      }
     },
     "output_type": "display_data"
    }
   ],
   "source": [
    "df_8=df_8.withColumn(\"cumulative_salary\",_sum(\"salary\").over(Window.partitionBy(\"department\").orderBy(col(\"join_date\"))))\n",
    "df_8.display()"
   ]
  },
  {
   "cell_type": "code",
   "execution_count": 0,
   "metadata": {
    "application/vnd.databricks.v1+cell": {
     "cellMetadata": {
      "byteLimit": 2048000,
      "rowLimit": 10000
     },
     "inputWidgets": {},
     "nuid": "098fadb0-69eb-496d-8e3c-f4b9c95992d8",
     "showTitle": false,
     "tableResultSettingsMap": {},
     "title": ""
    }
   },
   "outputs": [
    {
     "output_type": "display_data",
     "data": {
      "text/html": [
       "<style scoped>\n",
       "  .table-result-container {\n",
       "    max-height: 300px;\n",
       "    overflow: auto;\n",
       "  }\n",
       "  table, th, td {\n",
       "    border: 1px solid black;\n",
       "    border-collapse: collapse;\n",
       "  }\n",
       "  th, td {\n",
       "    padding: 5px;\n",
       "  }\n",
       "  th {\n",
       "    text-align: left;\n",
       "  }\n",
       "</style><div class='table-result-container'><table class='table-result'><thead style='background-color: white'><tr><th>employee_id</th><th>department</th><th>salary</th><th>join_date</th><th>cumulative_salary</th><th>dense_rank</th></tr></thead><tbody><tr><td>3</td><td>HR</td><td>60000</td><td>2023-03-10</td><td>110000</td><td>1</td></tr><tr><td>1</td><td>HR</td><td>50000</td><td>2022-01-01</td><td>50000</td><td>2</td></tr><tr><td>4</td><td>IT</td><td>80000</td><td>2020-12-01</td><td>80000</td><td>1</td></tr><tr><td>2</td><td>IT</td><td>70000</td><td>2021-06-15</td><td>150000</td><td>2</td></tr></tbody></table></div>"
      ]
     },
     "metadata": {
      "application/vnd.databricks.v1+output": {
       "addedWidgets": {},
       "aggData": [],
       "aggError": "",
       "aggOverflow": false,
       "aggSchema": [],
       "aggSeriesLimitReached": false,
       "aggType": "",
       "arguments": {},
       "columnCustomDisplayInfos": {},
       "data": [
        [
         3,
         "HR",
         60000,
         "2023-03-10",
         110000,
         1
        ],
        [
         1,
         "HR",
         50000,
         "2022-01-01",
         50000,
         2
        ],
        [
         4,
         "IT",
         80000,
         "2020-12-01",
         80000,
         1
        ],
        [
         2,
         "IT",
         70000,
         "2021-06-15",
         150000,
         2
        ]
       ],
       "datasetInfos": [],
       "dbfsResultPath": null,
       "isJsonSchema": true,
       "metadata": {},
       "overflow": false,
       "plotOptions": {
        "customPlotOptions": {},
        "displayType": "table",
        "pivotAggregation": null,
        "pivotColumns": null,
        "xColumns": null,
        "yColumns": null
       },
       "removedWidgets": [],
       "schema": [
        {
         "metadata": "{}",
         "name": "employee_id",
         "type": "\"long\""
        },
        {
         "metadata": "{}",
         "name": "department",
         "type": "\"string\""
        },
        {
         "metadata": "{}",
         "name": "salary",
         "type": "\"long\""
        },
        {
         "metadata": "{}",
         "name": "join_date",
         "type": "\"date\""
        },
        {
         "metadata": "{}",
         "name": "cumulative_salary",
         "type": "\"long\""
        },
        {
         "metadata": "{}",
         "name": "dense_rank",
         "type": "\"integer\""
        }
       ],
       "type": "table"
      }
     },
     "output_type": "display_data"
    }
   ],
   "source": [
    "df_8=df_8.withColumn(\"dense_rank\",dense_rank().over(Window.partitionBy(\"department\").orderBy(col(\"salary\").desc())))\n",
    "df_8.display()"
   ]
  },
  {
   "cell_type": "markdown",
   "metadata": {
    "application/vnd.databricks.v1+cell": {
     "cellMetadata": {},
     "inputWidgets": {},
     "nuid": "f0f1a67c-75c3-4498-89e5-f14d6d167059",
     "showTitle": false,
     "tableResultSettingsMap": {},
     "title": ""
    }
   },
   "source": [
    "# 10"
   ]
  },
  {
   "cell_type": "markdown",
   "metadata": {
    "application/vnd.databricks.v1+cell": {
     "cellMetadata": {},
     "inputWidgets": {},
     "nuid": "d396cbf5-af3b-44e3-b822-440099dfbb59",
     "showTitle": false,
     "tableResultSettingsMap": {},
     "title": ""
    }
   },
   "source": [
    "\n",
    "Problem Statement:\n",
    "For a given dataset containing product categories, products, and their sales amount, find the Top 3 products by sales amount per category. However:\n",
    "Twist 1: If two products have the same sales amount, prioritize the product with the smaller product name (alphabetical order).\n",
    "Twist 2: Ensure the solution is scalable for large datasets with millions of records.\n",
    "\n",
    "\n",
    "\n",
    "data = [ (\"A\", \"p1\", 100), (\"A\", \"p2\", 200), (\"A\", \"p3\", 200), (\"B\", \"p4\", 300), (\"B\", \"p5\", 150), (\"B\", \"p6\", 150), (\"C\", \"p7\", 400), (\"C\", \"p8\", 300), (\"C\", \"p9\", 200), ] \n",
    "\n",
    "columns = [\"category\", \"product\", \"amount\"]"
   ]
  },
  {
   "cell_type": "code",
   "execution_count": 0,
   "metadata": {
    "application/vnd.databricks.v1+cell": {
     "cellMetadata": {
      "byteLimit": 2048000,
      "rowLimit": 10000
     },
     "inputWidgets": {},
     "nuid": "cd909dca-d7eb-4eaf-b702-4a9dcf850e28",
     "showTitle": false,
     "tableResultSettingsMap": {},
     "title": ""
    }
   },
   "outputs": [],
   "source": [
    "from pyspark.sql import SparkSession\n",
    "from pyspark.sql.functions import col, row_number\n",
    "from pyspark.sql.window import Window\n",
    "\n",
    "# Start Spark session\n",
    "spark = SparkSession.builder.getOrCreate()\n",
    "\n",
    "# Sample data\n",
    "data = [ \n",
    "    (\"A\", \"p1\", 100), (\"A\", \"p2\", 200), (\"A\", \"p3\", 200),\n",
    "    (\"B\", \"p4\", 300), (\"B\", \"p5\", 150), (\"B\", \"p6\", 150),\n",
    "    (\"C\", \"p7\", 400), (\"C\", \"p8\", 300), (\"C\", \"p9\", 200),\n",
    "]\n",
    "columns = [\"category\", \"product\", \"amount\"]\n",
    "\n",
    "df_10 = spark.createDataFrame(data, columns)"
   ]
  },
  {
   "cell_type": "code",
   "execution_count": 0,
   "metadata": {
    "application/vnd.databricks.v1+cell": {
     "cellMetadata": {
      "byteLimit": 2048000,
      "rowLimit": 10000
     },
     "inputWidgets": {},
     "nuid": "4eb1427e-ff22-40fc-8cf1-9acdb8f03a84",
     "showTitle": false,
     "tableResultSettingsMap": {},
     "title": ""
    }
   },
   "outputs": [
    {
     "output_type": "display_data",
     "data": {
      "text/html": [
       "<style scoped>\n",
       "  .table-result-container {\n",
       "    max-height: 300px;\n",
       "    overflow: auto;\n",
       "  }\n",
       "  table, th, td {\n",
       "    border: 1px solid black;\n",
       "    border-collapse: collapse;\n",
       "  }\n",
       "  th, td {\n",
       "    padding: 5px;\n",
       "  }\n",
       "  th {\n",
       "    text-align: left;\n",
       "  }\n",
       "</style><div class='table-result-container'><table class='table-result'><thead style='background-color: white'><tr><th>category</th><th>product</th><th>amount</th></tr></thead><tbody><tr><td>A</td><td>p1</td><td>100</td></tr><tr><td>A</td><td>p2</td><td>200</td></tr><tr><td>A</td><td>p3</td><td>200</td></tr><tr><td>B</td><td>p4</td><td>300</td></tr><tr><td>B</td><td>p5</td><td>150</td></tr><tr><td>B</td><td>p6</td><td>150</td></tr><tr><td>C</td><td>p7</td><td>400</td></tr><tr><td>C</td><td>p8</td><td>300</td></tr><tr><td>C</td><td>p9</td><td>200</td></tr></tbody></table></div>"
      ]
     },
     "metadata": {
      "application/vnd.databricks.v1+output": {
       "addedWidgets": {},
       "aggData": [],
       "aggError": "",
       "aggOverflow": false,
       "aggSchema": [],
       "aggSeriesLimitReached": false,
       "aggType": "",
       "arguments": {},
       "columnCustomDisplayInfos": {},
       "data": [
        [
         "A",
         "p1",
         100
        ],
        [
         "A",
         "p2",
         200
        ],
        [
         "A",
         "p3",
         200
        ],
        [
         "B",
         "p4",
         300
        ],
        [
         "B",
         "p5",
         150
        ],
        [
         "B",
         "p6",
         150
        ],
        [
         "C",
         "p7",
         400
        ],
        [
         "C",
         "p8",
         300
        ],
        [
         "C",
         "p9",
         200
        ]
       ],
       "datasetInfos": [],
       "dbfsResultPath": null,
       "isJsonSchema": true,
       "metadata": {},
       "overflow": false,
       "plotOptions": {
        "customPlotOptions": {},
        "displayType": "table",
        "pivotAggregation": null,
        "pivotColumns": null,
        "xColumns": null,
        "yColumns": null
       },
       "removedWidgets": [],
       "schema": [
        {
         "metadata": "{}",
         "name": "category",
         "type": "\"string\""
        },
        {
         "metadata": "{}",
         "name": "product",
         "type": "\"string\""
        },
        {
         "metadata": "{}",
         "name": "amount",
         "type": "\"long\""
        }
       ],
       "type": "table"
      }
     },
     "output_type": "display_data"
    }
   ],
   "source": [
    "df_10.display()"
   ]
  },
  {
   "cell_type": "code",
   "execution_count": 0,
   "metadata": {
    "application/vnd.databricks.v1+cell": {
     "cellMetadata": {
      "byteLimit": 2048000,
      "rowLimit": 10000
     },
     "inputWidgets": {},
     "nuid": "38a1bea5-5287-48e0-ab77-e62571acb8d7",
     "showTitle": false,
     "tableResultSettingsMap": {},
     "title": ""
    }
   },
   "outputs": [],
   "source": [
    "df_10=df_10.withColumn(\"rn\",row_number().over(Window.partitionBy(\"category\").orderBy(col(\"amount\").desc(),col(\"product\").asc())))\\\n",
    "    .filter(col(\"rn\")<=3)\\\n",
    "    .drop(\"rn\")"
   ]
  },
  {
   "cell_type": "code",
   "execution_count": 0,
   "metadata": {
    "application/vnd.databricks.v1+cell": {
     "cellMetadata": {
      "byteLimit": 2048000,
      "rowLimit": 10000
     },
     "inputWidgets": {},
     "nuid": "7347ada5-6584-4173-a92e-00b0e0a12613",
     "showTitle": false,
     "tableResultSettingsMap": {},
     "title": ""
    }
   },
   "outputs": [
    {
     "output_type": "display_data",
     "data": {
      "text/html": [
       "<style scoped>\n",
       "  .table-result-container {\n",
       "    max-height: 300px;\n",
       "    overflow: auto;\n",
       "  }\n",
       "  table, th, td {\n",
       "    border: 1px solid black;\n",
       "    border-collapse: collapse;\n",
       "  }\n",
       "  th, td {\n",
       "    padding: 5px;\n",
       "  }\n",
       "  th {\n",
       "    text-align: left;\n",
       "  }\n",
       "</style><div class='table-result-container'><table class='table-result'><thead style='background-color: white'><tr><th>category</th><th>product</th><th>amount</th></tr></thead><tbody><tr><td>A</td><td>p2</td><td>200</td></tr><tr><td>A</td><td>p3</td><td>200</td></tr><tr><td>A</td><td>p1</td><td>100</td></tr><tr><td>B</td><td>p4</td><td>300</td></tr><tr><td>B</td><td>p5</td><td>150</td></tr><tr><td>B</td><td>p6</td><td>150</td></tr><tr><td>C</td><td>p7</td><td>400</td></tr><tr><td>C</td><td>p8</td><td>300</td></tr><tr><td>C</td><td>p9</td><td>200</td></tr></tbody></table></div>"
      ]
     },
     "metadata": {
      "application/vnd.databricks.v1+output": {
       "addedWidgets": {},
       "aggData": [],
       "aggError": "",
       "aggOverflow": false,
       "aggSchema": [],
       "aggSeriesLimitReached": false,
       "aggType": "",
       "arguments": {},
       "columnCustomDisplayInfos": {},
       "data": [
        [
         "A",
         "p2",
         200
        ],
        [
         "A",
         "p3",
         200
        ],
        [
         "A",
         "p1",
         100
        ],
        [
         "B",
         "p4",
         300
        ],
        [
         "B",
         "p5",
         150
        ],
        [
         "B",
         "p6",
         150
        ],
        [
         "C",
         "p7",
         400
        ],
        [
         "C",
         "p8",
         300
        ],
        [
         "C",
         "p9",
         200
        ]
       ],
       "datasetInfos": [],
       "dbfsResultPath": null,
       "isJsonSchema": true,
       "metadata": {},
       "overflow": false,
       "plotOptions": {
        "customPlotOptions": {},
        "displayType": "table",
        "pivotAggregation": null,
        "pivotColumns": null,
        "xColumns": null,
        "yColumns": null
       },
       "removedWidgets": [],
       "schema": [
        {
         "metadata": "{}",
         "name": "category",
         "type": "\"string\""
        },
        {
         "metadata": "{}",
         "name": "product",
         "type": "\"string\""
        },
        {
         "metadata": "{}",
         "name": "amount",
         "type": "\"long\""
        }
       ],
       "type": "table"
      }
     },
     "output_type": "display_data"
    }
   ],
   "source": [
    "df_10.display()"
   ]
  },
  {
   "cell_type": "markdown",
   "metadata": {
    "application/vnd.databricks.v1+cell": {
     "cellMetadata": {},
     "inputWidgets": {},
     "nuid": "04de919b-6e36-47cf-88f8-43ad7c5b2aa2",
     "showTitle": false,
     "tableResultSettingsMap": {},
     "title": ""
    }
   },
   "source": [
    "# 11\n",
    "You are given a dataset containing employee data with their department, year of joining, and monthly salary. Each row contains the department name, the year of joining, and the monthly salary of an employee.\n",
    "Your task is to:\n",
    "Calculate the average monthly salary for each department.\n",
    "Filter out departments with an average salary lower than 3000.\n",
    "Calculate the total salary paid by each department over all years.\n",
    "Sort the results by total salary paid in descending order."
   ]
  },
  {
   "cell_type": "markdown",
   "metadata": {
    "application/vnd.databricks.v1+cell": {
     "cellMetadata": {},
     "inputWidgets": {},
     "nuid": "aa437280-a105-49d2-89d2-d1779b6f0c48",
     "showTitle": false,
     "tableResultSettingsMap": {},
     "title": ""
    }
   },
   "source": [
    "\uD835\uDC2C\uD835\uDC1C\uD835\uDC21\uD835\uDC1E\uD835\uDC26\uD835\uDC1A \uD835\uDC1A\uD835\uDC27\uD835\uDC1D \uD835\uDC1D\uD835\uDC1A\uD835\uDC2D\uD835\uDC1A\uD835\uDC2C\uD835\uDC1E\uD835\uDC2D\n",
    "data = [\n",
    " (\"HR\", \"2020\", 2500), \n",
    " (\"HR\", \"2021\", 3200), \n",
    " (\"HR\", \"2022\", 2800), \n",
    " (\"Engineering\", \"2020\", 5000), \n",
    " (\"Engineering\", \"2021\", 6000), \n",
    " (\"Engineering\", \"2022\", 5500), \n",
    " (\"Marketing\", \"2020\", 4000), \n",
    " (\"Marketing\", \"2021\", 3500), \n",
    " (\"Marketing\", \"2022\", 3300)\n",
    "]\n",
    "\n",
    "\n",
    "Create DataFrame\n",
    "df = spark.createDataFrame(data, [\"Department\", \"Year\", \"Salary\"])"
   ]
  },
  {
   "cell_type": "code",
   "execution_count": 0,
   "metadata": {
    "application/vnd.databricks.v1+cell": {
     "cellMetadata": {
      "byteLimit": 2048000,
      "rowLimit": 10000
     },
     "inputWidgets": {},
     "nuid": "bce048a7-21b5-4f63-ab3e-25a7fd4536b6",
     "showTitle": false,
     "tableResultSettingsMap": {},
     "title": ""
    }
   },
   "outputs": [
    {
     "output_type": "display_data",
     "data": {
      "text/html": [
       "<style scoped>\n",
       "  .table-result-container {\n",
       "    max-height: 300px;\n",
       "    overflow: auto;\n",
       "  }\n",
       "  table, th, td {\n",
       "    border: 1px solid black;\n",
       "    border-collapse: collapse;\n",
       "  }\n",
       "  th, td {\n",
       "    padding: 5px;\n",
       "  }\n",
       "  th {\n",
       "    text-align: left;\n",
       "  }\n",
       "</style><div class='table-result-container'><table class='table-result'><thead style='background-color: white'><tr><th>Department</th><th>Year</th><th>Salary</th></tr></thead><tbody><tr><td>HR</td><td>2020</td><td>2500</td></tr><tr><td>HR</td><td>2021</td><td>3200</td></tr><tr><td>HR</td><td>2022</td><td>2800</td></tr><tr><td>Engineering</td><td>2020</td><td>5000</td></tr><tr><td>Engineering</td><td>2021</td><td>6000</td></tr><tr><td>Engineering</td><td>2022</td><td>5500</td></tr><tr><td>Marketing</td><td>2020</td><td>4000</td></tr><tr><td>Marketing</td><td>2021</td><td>3500</td></tr><tr><td>Marketing</td><td>2022</td><td>3300</td></tr></tbody></table></div>"
      ]
     },
     "metadata": {
      "application/vnd.databricks.v1+output": {
       "addedWidgets": {},
       "aggData": [],
       "aggError": "",
       "aggOverflow": false,
       "aggSchema": [],
       "aggSeriesLimitReached": false,
       "aggType": "",
       "arguments": {},
       "columnCustomDisplayInfos": {},
       "data": [
        [
         "HR",
         "2020",
         2500
        ],
        [
         "HR",
         "2021",
         3200
        ],
        [
         "HR",
         "2022",
         2800
        ],
        [
         "Engineering",
         "2020",
         5000
        ],
        [
         "Engineering",
         "2021",
         6000
        ],
        [
         "Engineering",
         "2022",
         5500
        ],
        [
         "Marketing",
         "2020",
         4000
        ],
        [
         "Marketing",
         "2021",
         3500
        ],
        [
         "Marketing",
         "2022",
         3300
        ]
       ],
       "datasetInfos": [],
       "dbfsResultPath": null,
       "isJsonSchema": true,
       "metadata": {},
       "overflow": false,
       "plotOptions": {
        "customPlotOptions": {},
        "displayType": "table",
        "pivotAggregation": null,
        "pivotColumns": null,
        "xColumns": null,
        "yColumns": null
       },
       "removedWidgets": [],
       "schema": [
        {
         "metadata": "{}",
         "name": "Department",
         "type": "\"string\""
        },
        {
         "metadata": "{}",
         "name": "Year",
         "type": "\"string\""
        },
        {
         "metadata": "{}",
         "name": "Salary",
         "type": "\"long\""
        }
       ],
       "type": "table"
      }
     },
     "output_type": "display_data"
    }
   ],
   "source": [
    "data = [\n",
    "    (\"HR\", \"2020\", 2500), (\"HR\", \"2021\", 3200), (\"HR\", \"2022\", 2800),\n",
    "    (\"Engineering\", \"2020\", 5000), (\"Engineering\", \"2021\", 6000), (\"Engineering\", \"2022\", 5500),\n",
    "    (\"Marketing\", \"2020\", 4000), (\"Marketing\", \"2021\", 3500), (\"Marketing\", \"2022\", 3300)\n",
    "]\n",
    "columns = [\"Department\", \"Year\", \"Salary\"]\n",
    "\n",
    "df_11 = spark.createDataFrame(data, columns)\n",
    "df_11.display()\n"
   ]
  },
  {
   "cell_type": "code",
   "execution_count": 0,
   "metadata": {
    "application/vnd.databricks.v1+cell": {
     "cellMetadata": {
      "byteLimit": 2048000,
      "rowLimit": 10000
     },
     "inputWidgets": {},
     "nuid": "6aa800c9-b66e-428b-8205-837637452ed0",
     "showTitle": false,
     "tableResultSettingsMap": {},
     "title": ""
    }
   },
   "outputs": [],
   "source": [
    "from pyspark.sql.functions import avg"
   ]
  },
  {
   "cell_type": "code",
   "execution_count": 0,
   "metadata": {
    "application/vnd.databricks.v1+cell": {
     "cellMetadata": {
      "byteLimit": 2048000,
      "rowLimit": 10000
     },
     "inputWidgets": {},
     "nuid": "27cb327e-a2f1-4d54-98ea-c0ea2e9c4a17",
     "showTitle": false,
     "tableResultSettingsMap": {},
     "title": ""
    }
   },
   "outputs": [],
   "source": [
    "df_NEW=df_11.groupBy(\"Department\").agg(avg(\"Salary\").alias(\"avg_salary\"))"
   ]
  },
  {
   "cell_type": "code",
   "execution_count": 0,
   "metadata": {
    "application/vnd.databricks.v1+cell": {
     "cellMetadata": {
      "byteLimit": 2048000,
      "rowLimit": 10000
     },
     "inputWidgets": {},
     "nuid": "f952a6eb-5aff-4a86-ae9d-c4bfb0d55158",
     "showTitle": false,
     "tableResultSettingsMap": {
      "0": {
       "dataGridStateBlob": "{\"version\":1,\"tableState\":{\"columnPinning\":{\"left\":[\"#row_number#\"],\"right\":[]},\"columnSizing\":{},\"columnVisibility\":{}},\"settings\":{\"columns\":{}},\"syncTimestamp\":1752904683528}",
       "filterBlob": null,
       "queryPlanFiltersBlob": null,
       "tableResultIndex": 0
      }
     },
     "title": ""
    }
   },
   "outputs": [
    {
     "output_type": "display_data",
     "data": {
      "text/html": [
       "<style scoped>\n",
       "  .table-result-container {\n",
       "    max-height: 300px;\n",
       "    overflow: auto;\n",
       "  }\n",
       "  table, th, td {\n",
       "    border: 1px solid black;\n",
       "    border-collapse: collapse;\n",
       "  }\n",
       "  th, td {\n",
       "    padding: 5px;\n",
       "  }\n",
       "  th {\n",
       "    text-align: left;\n",
       "  }\n",
       "</style><div class='table-result-container'><table class='table-result'><thead style='background-color: white'><tr><th>Department</th><th>avg_salary</th></tr></thead><tbody><tr><td>HR</td><td>2833.3333333333335</td></tr><tr><td>Engineering</td><td>5500.0</td></tr><tr><td>Marketing</td><td>3600.0</td></tr></tbody></table></div>"
      ]
     },
     "metadata": {
      "application/vnd.databricks.v1+output": {
       "addedWidgets": {},
       "aggData": [],
       "aggError": "",
       "aggOverflow": false,
       "aggSchema": [],
       "aggSeriesLimitReached": false,
       "aggType": "",
       "arguments": {},
       "columnCustomDisplayInfos": {},
       "data": [
        [
         "HR",
         2833.3333333333335
        ],
        [
         "Engineering",
         5500.0
        ],
        [
         "Marketing",
         3600.0
        ]
       ],
       "datasetInfos": [],
       "dbfsResultPath": null,
       "isJsonSchema": true,
       "metadata": {},
       "overflow": false,
       "plotOptions": {
        "customPlotOptions": {},
        "displayType": "table",
        "pivotAggregation": null,
        "pivotColumns": null,
        "xColumns": null,
        "yColumns": null
       },
       "removedWidgets": [],
       "schema": [
        {
         "metadata": "{}",
         "name": "Department",
         "type": "\"string\""
        },
        {
         "metadata": "{}",
         "name": "avg_salary",
         "type": "\"double\""
        }
       ],
       "type": "table"
      }
     },
     "output_type": "display_data"
    }
   ],
   "source": [
    "df_NEW.display()"
   ]
  },
  {
   "cell_type": "code",
   "execution_count": 0,
   "metadata": {
    "application/vnd.databricks.v1+cell": {
     "cellMetadata": {
      "byteLimit": 2048000,
      "rowLimit": 10000
     },
     "inputWidgets": {},
     "nuid": "8a9b6b95-b4ee-409e-88d1-3233fa83e1ba",
     "showTitle": false,
     "tableResultSettingsMap": {
      "0": {
       "dataGridStateBlob": "{\"version\":1,\"tableState\":{\"columnPinning\":{\"left\":[\"#row_number#\"],\"right\":[]},\"columnSizing\":{},\"columnVisibility\":{}},\"settings\":{\"columns\":{}},\"syncTimestamp\":1752904926446}",
       "filterBlob": null,
       "queryPlanFiltersBlob": null,
       "tableResultIndex": 0
      }
     },
     "title": ""
    }
   },
   "outputs": [
    {
     "output_type": "display_data",
     "data": {
      "text/html": [
       "<style scoped>\n",
       "  .table-result-container {\n",
       "    max-height: 300px;\n",
       "    overflow: auto;\n",
       "  }\n",
       "  table, th, td {\n",
       "    border: 1px solid black;\n",
       "    border-collapse: collapse;\n",
       "  }\n",
       "  th, td {\n",
       "    padding: 5px;\n",
       "  }\n",
       "  th {\n",
       "    text-align: left;\n",
       "  }\n",
       "</style><div class='table-result-container'><table class='table-result'><thead style='background-color: white'><tr><th>Department</th><th>avg_salary</th></tr></thead><tbody><tr><td>Engineering</td><td>5500.0</td></tr><tr><td>Marketing</td><td>3600.0</td></tr></tbody></table></div>"
      ]
     },
     "metadata": {
      "application/vnd.databricks.v1+output": {
       "addedWidgets": {},
       "aggData": [],
       "aggError": "",
       "aggOverflow": false,
       "aggSchema": [],
       "aggSeriesLimitReached": false,
       "aggType": "",
       "arguments": {},
       "columnCustomDisplayInfos": {},
       "data": [
        [
         "Engineering",
         5500.0
        ],
        [
         "Marketing",
         3600.0
        ]
       ],
       "datasetInfos": [],
       "dbfsResultPath": null,
       "isJsonSchema": true,
       "metadata": {},
       "overflow": false,
       "plotOptions": {
        "customPlotOptions": {},
        "displayType": "table",
        "pivotAggregation": null,
        "pivotColumns": null,
        "xColumns": null,
        "yColumns": null
       },
       "removedWidgets": [],
       "schema": [
        {
         "metadata": "{}",
         "name": "Department",
         "type": "\"string\""
        },
        {
         "metadata": "{}",
         "name": "avg_salary",
         "type": "\"double\""
        }
       ],
       "type": "table"
      }
     },
     "output_type": "display_data"
    }
   ],
   "source": [
    "df_filtered=df_NEW.filter(col(\"avg_salary\")>3000)\n",
    "df_filtered.display()"
   ]
  },
  {
   "cell_type": "code",
   "execution_count": 0,
   "metadata": {
    "application/vnd.databricks.v1+cell": {
     "cellMetadata": {
      "byteLimit": 2048000,
      "rowLimit": 10000
     },
     "inputWidgets": {},
     "nuid": "8e529b76-cc4a-41bd-8c0b-a67351ce3f1f",
     "showTitle": false,
     "tableResultSettingsMap": {},
     "title": ""
    }
   },
   "outputs": [
    {
     "output_type": "display_data",
     "data": {
      "text/html": [
       "<style scoped>\n",
       "  .table-result-container {\n",
       "    max-height: 300px;\n",
       "    overflow: auto;\n",
       "  }\n",
       "  table, th, td {\n",
       "    border: 1px solid black;\n",
       "    border-collapse: collapse;\n",
       "  }\n",
       "  th, td {\n",
       "    padding: 5px;\n",
       "  }\n",
       "  th {\n",
       "    text-align: left;\n",
       "  }\n",
       "</style><div class='table-result-container'><table class='table-result'><thead style='background-color: white'><tr><th>Department</th><th>Year</th><th>Salary</th><th>avg_salary</th></tr></thead><tbody><tr><td>Engineering</td><td>2022</td><td>5500</td><td>5500.0</td></tr><tr><td>Marketing</td><td>2022</td><td>3300</td><td>3600.0</td></tr><tr><td>Engineering</td><td>2021</td><td>6000</td><td>5500.0</td></tr><tr><td>Marketing</td><td>2021</td><td>3500</td><td>3600.0</td></tr><tr><td>Engineering</td><td>2020</td><td>5000</td><td>5500.0</td></tr><tr><td>Marketing</td><td>2020</td><td>4000</td><td>3600.0</td></tr></tbody></table></div>"
      ]
     },
     "metadata": {
      "application/vnd.databricks.v1+output": {
       "addedWidgets": {},
       "aggData": [],
       "aggError": "",
       "aggOverflow": false,
       "aggSchema": [],
       "aggSeriesLimitReached": false,
       "aggType": "",
       "arguments": {},
       "columnCustomDisplayInfos": {},
       "data": [
        [
         "Engineering",
         "2022",
         5500,
         5500.0
        ],
        [
         "Marketing",
         "2022",
         3300,
         3600.0
        ],
        [
         "Engineering",
         "2021",
         6000,
         5500.0
        ],
        [
         "Marketing",
         "2021",
         3500,
         3600.0
        ],
        [
         "Engineering",
         "2020",
         5000,
         5500.0
        ],
        [
         "Marketing",
         "2020",
         4000,
         3600.0
        ]
       ],
       "datasetInfos": [],
       "dbfsResultPath": null,
       "isJsonSchema": true,
       "metadata": {},
       "overflow": false,
       "plotOptions": {
        "customPlotOptions": {},
        "displayType": "table",
        "pivotAggregation": null,
        "pivotColumns": null,
        "xColumns": null,
        "yColumns": null
       },
       "removedWidgets": [],
       "schema": [
        {
         "metadata": "{}",
         "name": "Department",
         "type": "\"string\""
        },
        {
         "metadata": "{}",
         "name": "Year",
         "type": "\"string\""
        },
        {
         "metadata": "{}",
         "name": "Salary",
         "type": "\"long\""
        },
        {
         "metadata": "{}",
         "name": "avg_salary",
         "type": "\"double\""
        }
       ],
       "type": "table"
      }
     },
     "output_type": "display_data"
    }
   ],
   "source": [
    "df_join=df_11.join(df_filtered,on=\"Department\",how=\"inner\")\n",
    "df_join.display()"
   ]
  },
  {
   "cell_type": "code",
   "execution_count": 0,
   "metadata": {
    "application/vnd.databricks.v1+cell": {
     "cellMetadata": {
      "byteLimit": 2048000,
      "rowLimit": 10000
     },
     "inputWidgets": {},
     "nuid": "d145f50c-a5b0-4411-8efb-9f9d6a684107",
     "showTitle": false,
     "tableResultSettingsMap": {},
     "title": ""
    }
   },
   "outputs": [
    {
     "output_type": "display_data",
     "data": {
      "text/html": [
       "<style scoped>\n",
       "  .table-result-container {\n",
       "    max-height: 300px;\n",
       "    overflow: auto;\n",
       "  }\n",
       "  table, th, td {\n",
       "    border: 1px solid black;\n",
       "    border-collapse: collapse;\n",
       "  }\n",
       "  th, td {\n",
       "    padding: 5px;\n",
       "  }\n",
       "  th {\n",
       "    text-align: left;\n",
       "  }\n",
       "</style><div class='table-result-container'><table class='table-result'><thead style='background-color: white'><tr><th>Department</th><th>total_salary</th></tr></thead><tbody><tr><td>Engineering</td><td>16500</td></tr><tr><td>Marketing</td><td>10800</td></tr></tbody></table></div>"
      ]
     },
     "metadata": {
      "application/vnd.databricks.v1+output": {
       "addedWidgets": {},
       "aggData": [],
       "aggError": "",
       "aggOverflow": false,
       "aggSchema": [],
       "aggSeriesLimitReached": false,
       "aggType": "",
       "arguments": {},
       "columnCustomDisplayInfos": {},
       "data": [
        [
         "Engineering",
         16500
        ],
        [
         "Marketing",
         10800
        ]
       ],
       "datasetInfos": [],
       "dbfsResultPath": null,
       "isJsonSchema": true,
       "metadata": {},
       "overflow": false,
       "plotOptions": {
        "customPlotOptions": {},
        "displayType": "table",
        "pivotAggregation": null,
        "pivotColumns": null,
        "xColumns": null,
        "yColumns": null
       },
       "removedWidgets": [],
       "schema": [
        {
         "metadata": "{}",
         "name": "Department",
         "type": "\"string\""
        },
        {
         "metadata": "{}",
         "name": "total_salary",
         "type": "\"long\""
        }
       ],
       "type": "table"
      }
     },
     "output_type": "display_data"
    }
   ],
   "source": [
    "from pyspark.sql.functions import col, sum\n",
    "\n",
    "# Convert Salary to integer\n",
    "df_join = df_join.withColumn(\"Salary\", col(\"Salary\").cast(\"int\"))\n",
    "\n",
    "# Now do the aggregation\n",
    "df_final = df_join.groupBy(\"Department\")\\\n",
    "    .agg(sum(\"Salary\").alias(\"total_salary\"))\\\n",
    "    .orderBy(col(\"total_salary\").desc())  # Sort by total salary in descending order\n",
    "\n",
    "df_final.display()\n",
    "\n",
    "\n"
   ]
  },
  {
   "cell_type": "markdown",
   "metadata": {
    "application/vnd.databricks.v1+cell": {
     "cellMetadata": {},
     "inputWidgets": {},
     "nuid": "33dca602-0432-4815-b181-2cb2f0b130db",
     "showTitle": false,
     "tableResultSettingsMap": {},
     "title": ""
    }
   },
   "source": [
    "# 12\n",
    "You have a dataset of transactions that contains the following fields:\n",
    "transaction_id (integer): Unique ID for each transaction.\n",
    "user_id (integer): ID of the user performing the transaction.\n",
    "transaction_amount (float): Amount of the transaction.\n",
    "transaction_date (string): Date of the transaction in yyyy-MM-dd format.\n",
    "From this dataset, perform the following operations:\n",
    "Find the top 3 users with the highest total transaction amounts.\n",
    "Among these top 3 users, for each, identify the most recent transaction date.\n"
   ]
  },
  {
   "cell_type": "markdown",
   "metadata": {
    "application/vnd.databricks.v1+cell": {
     "cellMetadata": {},
     "inputWidgets": {},
     "nuid": "f05851e0-9186-42cc-9ab0-86a6c1f2cf14",
     "showTitle": false,
     "tableResultSettingsMap": {},
     "title": ""
    }
   },
   "source": [
    "data = [ (1, 101, 500.0, \"2024-01-01\"), (2, 102, 200.0, \"2024-01-02\"), \n",
    "(3, 101, 300.0, \"2024-01-03\"), (4, 103, 100.0, \"2024-01-04\"), \n",
    "(5, 102, 400.0, \"2024-01-05\"), (6, 103, 600.0, \"2024-01-06\"), \n",
    "(7, 101, 200.0, \"2024-01-07\"), ] \n",
    "\n",
    "columns = [\"transaction_id\", \"user_id\", \"transaction_amount\", \"transaction_date\"]"
   ]
  },
  {
   "cell_type": "code",
   "execution_count": 0,
   "metadata": {
    "application/vnd.databricks.v1+cell": {
     "cellMetadata": {
      "byteLimit": 2048000,
      "rowLimit": 10000
     },
     "inputWidgets": {},
     "nuid": "e2e09037-70e6-4734-be68-abffa1c8389b",
     "showTitle": false,
     "tableResultSettingsMap": {},
     "title": ""
    }
   },
   "outputs": [
    {
     "output_type": "display_data",
     "data": {
      "text/html": [
       "<style scoped>\n",
       "  .table-result-container {\n",
       "    max-height: 300px;\n",
       "    overflow: auto;\n",
       "  }\n",
       "  table, th, td {\n",
       "    border: 1px solid black;\n",
       "    border-collapse: collapse;\n",
       "  }\n",
       "  th, td {\n",
       "    padding: 5px;\n",
       "  }\n",
       "  th {\n",
       "    text-align: left;\n",
       "  }\n",
       "</style><div class='table-result-container'><table class='table-result'><thead style='background-color: white'><tr><th>user_id</th><th>average_transaction_amount</th></tr></thead><tbody><tr><td>101</td><td>333.3333333333333</td></tr></tbody></table></div>"
      ]
     },
     "metadata": {
      "application/vnd.databricks.v1+output": {
       "addedWidgets": {},
       "aggData": [],
       "aggError": "",
       "aggOverflow": false,
       "aggSchema": [],
       "aggSeriesLimitReached": false,
       "aggType": "",
       "arguments": {},
       "columnCustomDisplayInfos": {},
       "data": [
        [
         101,
         333.3333333333333
        ]
       ],
       "datasetInfos": [],
       "dbfsResultPath": null,
       "isJsonSchema": true,
       "metadata": {},
       "overflow": false,
       "plotOptions": {
        "customPlotOptions": {},
        "displayType": "table",
        "pivotAggregation": null,
        "pivotColumns": null,
        "xColumns": null,
        "yColumns": null
       },
       "removedWidgets": [],
       "schema": [
        {
         "metadata": "{}",
         "name": "user_id",
         "type": "\"long\""
        },
        {
         "metadata": "{}",
         "name": "average_transaction_amount",
         "type": "\"double\""
        }
       ],
       "type": "table"
      }
     },
     "output_type": "display_data"
    }
   ],
   "source": [
    "from pyspark.sql import SparkSession\n",
    "from pyspark.sql.functions import col, countDistinct, avg\n",
    "\n",
    "# Initialize Spark\n",
    "spark = SparkSession.builder.getOrCreate()\n",
    "\n",
    "# Step 1: Create DataFrame\n",
    "data = [\n",
    "    (1, 101, 500.0, \"2024-01-01\"), \n",
    "    (2, 102, 200.0, \"2024-01-02\"), \n",
    "    (3, 101, 300.0, \"2024-01-03\"), \n",
    "    (4, 103, 100.0, \"2024-01-04\"), \n",
    "    (5, 102, 400.0, \"2024-01-05\"), \n",
    "    (6, 103, 600.0, \"2024-01-06\"), \n",
    "    (7, 101, 200.0, \"2024-01-07\"),\n",
    "]\n",
    "columns = [\"transaction_id\", \"user_id\", \"transaction_amount\", \"transaction_date\"]\n",
    "\n",
    "df = spark.createDataFrame(data, columns)\n",
    "\n",
    "# Step 2: Count distinct dates per user\n",
    "df_date_count = df.groupBy(\"user_id\")\\\n",
    "    .agg(countDistinct(\"transaction_date\").alias(\"date_count\"))\n",
    "\n",
    "# Step 3: Filter users with >= 3 transaction dates\n",
    "df_filtered_users = df_date_count.filter(col(\"date_count\") >= 3)\n",
    "\n",
    "# Step 4: Join with original to get only relevant users\n",
    "df_joined = df.join(df_filtered_users, on=\"user_id\", how=\"inner\")\n",
    "\n",
    "# Step 5: Calculate average transaction amount\n",
    "df_result = df_joined.groupBy(\"user_id\")\\\n",
    "    .agg(avg(\"transaction_amount\").alias(\"average_transaction_amount\"))\n",
    "\n",
    "df_result.display()\n"
   ]
  },
  {
   "cell_type": "markdown",
   "metadata": {
    "application/vnd.databricks.v1+cell": {
     "cellMetadata": {},
     "inputWidgets": {},
     "nuid": "27520aaf-6e4d-4352-922f-374dbb07e5fd",
     "showTitle": false,
     "tableResultSettingsMap": {},
     "title": ""
    }
   },
   "source": [
    "# 18"
   ]
  },
  {
   "cell_type": "markdown",
   "metadata": {
    "application/vnd.databricks.v1+cell": {
     "cellMetadata": {},
     "inputWidgets": {},
     "nuid": "5ffe9bd2-a97d-4cd3-b9ff-9679c484807d",
     "showTitle": false,
     "tableResultSettingsMap": {},
     "title": ""
    }
   },
   "source": [
    "You have two datasets with different keys, and you need to join them based on a specific mapping logic. Here are the datasets: \n",
    "\n",
    "Task: Write a PySpark program to join these datasets such that category_id in Dataset 1 matches with cat_id in Dataset 2, and produce the result with the following schema: | product_id | product_name | category_name |\n",
    "\n",
    "\n",
    "Create Dataset 1 (Products) \n",
    "\n",
    "products_data = [ (1, \"Laptop\", 101), (2, \"Smartphone\", 102), (3, \"Tablet\", 101) ] \n",
    "\n",
    "products_schema = [\"product_id\", \"product_name\", \"category_id\"] \n",
    "\n",
    "products_df = spark.createDataFrame(products_data, schema=products_schema) \n",
    "\n",
    "Create Dataset 2 (Categories) \n",
    "\n",
    "categories_data = [ (101, \"Electronics\"), (102, \"Mobile\"), (103, \"Home Appliance\") ] \n",
    "\n",
    "categories_schema = [\"cat_id\", \"category_name\"]"
   ]
  },
  {
   "cell_type": "code",
   "execution_count": 0,
   "metadata": {
    "application/vnd.databricks.v1+cell": {
     "cellMetadata": {
      "byteLimit": 2048000,
      "rowLimit": 10000
     },
     "inputWidgets": {},
     "nuid": "1a678325-e222-4f03-83c1-1a411740aac2",
     "showTitle": false,
     "tableResultSettingsMap": {},
     "title": ""
    }
   },
   "outputs": [],
   "source": [
    "\n",
    "\n",
    "# Dataset 1: Products\n",
    "products_data = [\n",
    "    (1, \"Laptop\", 101),\n",
    "    (2, \"Smartphone\", 102),\n",
    "    (3, \"Tablet\", 101)\n",
    "]\n",
    "products_schema = [\"product_id\", \"product_name\", \"category_id\"]\n",
    "products_df = spark.createDataFrame(products_data, schema=products_schema)\n",
    "\n",
    "# Dataset 2: Categories\n",
    "categories_data = [\n",
    "    (101, \"Electronics\"),\n",
    "    (102, \"Mobile\"),\n",
    "    (103, \"Home Appliance\")\n",
    "]\n",
    "categories_schema = [\"cat_id\", \"category_name\"]\n",
    "categories_df = spark.createDataFrame(categories_data, schema=categories_schema)"
   ]
  },
  {
   "cell_type": "code",
   "execution_count": 0,
   "metadata": {
    "application/vnd.databricks.v1+cell": {
     "cellMetadata": {
      "byteLimit": 2048000,
      "rowLimit": 10000
     },
     "inputWidgets": {},
     "nuid": "8b4dee6c-dcab-4a4f-9f83-0290b653f468",
     "showTitle": false,
     "tableResultSettingsMap": {},
     "title": ""
    }
   },
   "outputs": [
    {
     "output_type": "display_data",
     "data": {
      "text/html": [
       "<style scoped>\n",
       "  .table-result-container {\n",
       "    max-height: 300px;\n",
       "    overflow: auto;\n",
       "  }\n",
       "  table, th, td {\n",
       "    border: 1px solid black;\n",
       "    border-collapse: collapse;\n",
       "  }\n",
       "  th, td {\n",
       "    padding: 5px;\n",
       "  }\n",
       "  th {\n",
       "    text-align: left;\n",
       "  }\n",
       "</style><div class='table-result-container'><table class='table-result'><thead style='background-color: white'><tr><th>product_id</th><th>product_name</th><th>category_id</th></tr></thead><tbody><tr><td>1</td><td>Laptop</td><td>101</td></tr><tr><td>2</td><td>Smartphone</td><td>102</td></tr><tr><td>3</td><td>Tablet</td><td>101</td></tr></tbody></table></div>"
      ]
     },
     "metadata": {
      "application/vnd.databricks.v1+output": {
       "addedWidgets": {},
       "aggData": [],
       "aggError": "",
       "aggOverflow": false,
       "aggSchema": [],
       "aggSeriesLimitReached": false,
       "aggType": "",
       "arguments": {},
       "columnCustomDisplayInfos": {},
       "data": [
        [
         1,
         "Laptop",
         101
        ],
        [
         2,
         "Smartphone",
         102
        ],
        [
         3,
         "Tablet",
         101
        ]
       ],
       "datasetInfos": [],
       "dbfsResultPath": null,
       "isJsonSchema": true,
       "metadata": {},
       "overflow": false,
       "plotOptions": {
        "customPlotOptions": {},
        "displayType": "table",
        "pivotAggregation": null,
        "pivotColumns": null,
        "xColumns": null,
        "yColumns": null
       },
       "removedWidgets": [],
       "schema": [
        {
         "metadata": "{}",
         "name": "product_id",
         "type": "\"long\""
        },
        {
         "metadata": "{}",
         "name": "product_name",
         "type": "\"string\""
        },
        {
         "metadata": "{}",
         "name": "category_id",
         "type": "\"long\""
        }
       ],
       "type": "table"
      }
     },
     "output_type": "display_data"
    },
    {
     "output_type": "display_data",
     "data": {
      "text/html": [
       "<style scoped>\n",
       "  .table-result-container {\n",
       "    max-height: 300px;\n",
       "    overflow: auto;\n",
       "  }\n",
       "  table, th, td {\n",
       "    border: 1px solid black;\n",
       "    border-collapse: collapse;\n",
       "  }\n",
       "  th, td {\n",
       "    padding: 5px;\n",
       "  }\n",
       "  th {\n",
       "    text-align: left;\n",
       "  }\n",
       "</style><div class='table-result-container'><table class='table-result'><thead style='background-color: white'><tr><th>cat_id</th><th>category_name</th></tr></thead><tbody><tr><td>101</td><td>Electronics</td></tr><tr><td>102</td><td>Mobile</td></tr><tr><td>103</td><td>Home Appliance</td></tr></tbody></table></div>"
      ]
     },
     "metadata": {
      "application/vnd.databricks.v1+output": {
       "addedWidgets": {},
       "aggData": [],
       "aggError": "",
       "aggOverflow": false,
       "aggSchema": [],
       "aggSeriesLimitReached": false,
       "aggType": "",
       "arguments": {},
       "columnCustomDisplayInfos": {},
       "data": [
        [
         101,
         "Electronics"
        ],
        [
         102,
         "Mobile"
        ],
        [
         103,
         "Home Appliance"
        ]
       ],
       "datasetInfos": [],
       "dbfsResultPath": null,
       "isJsonSchema": true,
       "metadata": {},
       "overflow": false,
       "plotOptions": {
        "customPlotOptions": {},
        "displayType": "table",
        "pivotAggregation": null,
        "pivotColumns": null,
        "xColumns": null,
        "yColumns": null
       },
       "removedWidgets": [],
       "schema": [
        {
         "metadata": "{}",
         "name": "cat_id",
         "type": "\"long\""
        },
        {
         "metadata": "{}",
         "name": "category_name",
         "type": "\"string\""
        }
       ],
       "type": "table"
      }
     },
     "output_type": "display_data"
    }
   ],
   "source": [
    "products_df.display()\n",
    "categories_df.display()"
   ]
  },
  {
   "cell_type": "code",
   "execution_count": 0,
   "metadata": {
    "application/vnd.databricks.v1+cell": {
     "cellMetadata": {
      "byteLimit": 2048000,
      "rowLimit": 10000
     },
     "inputWidgets": {},
     "nuid": "4f865a7c-89f9-4d38-a86a-3b60d2fbf0ff",
     "showTitle": false,
     "tableResultSettingsMap": {},
     "title": ""
    }
   },
   "outputs": [
    {
     "output_type": "display_data",
     "data": {
      "text/html": [
       "<style scoped>\n",
       "  .table-result-container {\n",
       "    max-height: 300px;\n",
       "    overflow: auto;\n",
       "  }\n",
       "  table, th, td {\n",
       "    border: 1px solid black;\n",
       "    border-collapse: collapse;\n",
       "  }\n",
       "  th, td {\n",
       "    padding: 5px;\n",
       "  }\n",
       "  th {\n",
       "    text-align: left;\n",
       "  }\n",
       "</style><div class='table-result-container'><table class='table-result'><thead style='background-color: white'><tr><th>product_id</th><th>product_name</th><th>category_name</th></tr></thead><tbody><tr><td>1</td><td>Laptop</td><td>Electronics</td></tr><tr><td>2</td><td>Smartphone</td><td>Mobile</td></tr><tr><td>3</td><td>Tablet</td><td>Electronics</td></tr></tbody></table></div>"
      ]
     },
     "metadata": {
      "application/vnd.databricks.v1+output": {
       "addedWidgets": {},
       "aggData": [],
       "aggError": "",
       "aggOverflow": false,
       "aggSchema": [],
       "aggSeriesLimitReached": false,
       "aggType": "",
       "arguments": {},
       "columnCustomDisplayInfos": {},
       "data": [
        [
         1,
         "Laptop",
         "Electronics"
        ],
        [
         2,
         "Smartphone",
         "Mobile"
        ],
        [
         3,
         "Tablet",
         "Electronics"
        ]
       ],
       "datasetInfos": [],
       "dbfsResultPath": null,
       "isJsonSchema": true,
       "metadata": {},
       "overflow": false,
       "plotOptions": {
        "customPlotOptions": {},
        "displayType": "table",
        "pivotAggregation": null,
        "pivotColumns": null,
        "xColumns": null,
        "yColumns": null
       },
       "removedWidgets": [],
       "schema": [
        {
         "metadata": "{}",
         "name": "product_id",
         "type": "\"long\""
        },
        {
         "metadata": "{}",
         "name": "product_name",
         "type": "\"string\""
        },
        {
         "metadata": "{}",
         "name": "category_name",
         "type": "\"string\""
        }
       ],
       "type": "table"
      }
     },
     "output_type": "display_data"
    }
   ],
   "source": [
    "df_joined=products_df.join(categories_df,on=products_df.category_id==categories_df.cat_id,how=\"inner\")\\\n",
    "  .select(\"product_id\",\"product_name\",\"category_name\")\n",
    "df_joined.display()"
   ]
  },
  {
   "cell_type": "markdown",
   "metadata": {
    "application/vnd.databricks.v1+cell": {
     "cellMetadata": {},
     "inputWidgets": {},
     "nuid": "8220527d-9e04-4d1b-843e-b58ce26bbb75",
     "showTitle": false,
     "tableResultSettingsMap": {},
     "title": ""
    }
   },
   "source": [
    "# 20\n",
    "You are working as a Data Engineer for a retail company that operates in multiple regions. The sales data is collected daily, and the company wants to analyze the performance of each product across different regions. The data is stored in a PySpark DataFrame with the following schema:\n",
    "The management has requested a report where each region becomes a column and the values represent the total sales for each product in that region. Your task is to write PySpark code to generate this pivot table.\n",
    "\n",
    "Task:\n",
    "1. Load the sample data into a PySpark DataFrame.\n",
    "2. Use PySpark's pivot functionality to create a table where:\n",
    "Each region is a column.\n",
    "The rows represent the products.\n",
    "The values are the total sales for each product in each region.\n",
    "3. Provide the output DataFrame in a user-friendly format for the stakeholders.\n",
    "\n",
    "\uD835\uDC2C\uD835\uDC1C\uD835\uDC21\uD835\uDC1E\uD835\uDC26\uD835\uDC1A \uD835\uDC1A\uD835\uDC27\uD835\uDC1D \uD835\uDC1D\uD835\uDC1A\uD835\uDC2D\uD835\uDC1A\uD835\uDC2C\uD835\uDC1E\uD835\uDC2D\n",
    "Sample Data data = [ (\"A\", \"North\", 100), (\"B\", \"East\", 200), (\"A\", \"East\", 150), (\"C\", \"North\", 300), (\"B\", \"South\", 400), (\"C\", \"East\", 250) ] columns = [\"Product\", \"Region\", \"Sales\"]"
   ]
  },
  {
   "cell_type": "code",
   "execution_count": 0,
   "metadata": {
    "application/vnd.databricks.v1+cell": {
     "cellMetadata": {
      "byteLimit": 2048000,
      "rowLimit": 10000
     },
     "inputWidgets": {},
     "nuid": "be41bb2b-414c-465f-817e-494246e17ccb",
     "showTitle": false,
     "tableResultSettingsMap": {},
     "title": ""
    }
   },
   "outputs": [
    {
     "output_type": "display_data",
     "data": {
      "text/html": [
       "<style scoped>\n",
       "  .table-result-container {\n",
       "    max-height: 300px;\n",
       "    overflow: auto;\n",
       "  }\n",
       "  table, th, td {\n",
       "    border: 1px solid black;\n",
       "    border-collapse: collapse;\n",
       "  }\n",
       "  th, td {\n",
       "    padding: 5px;\n",
       "  }\n",
       "  th {\n",
       "    text-align: left;\n",
       "  }\n",
       "</style><div class='table-result-container'><table class='table-result'><thead style='background-color: white'><tr><th>Product</th><th>Region</th><th>Sales</th></tr></thead><tbody><tr><td>A</td><td>North</td><td>100</td></tr><tr><td>B</td><td>East</td><td>200</td></tr><tr><td>A</td><td>East</td><td>150</td></tr><tr><td>C</td><td>North</td><td>300</td></tr><tr><td>B</td><td>South</td><td>400</td></tr><tr><td>C</td><td>East</td><td>250</td></tr></tbody></table></div>"
      ]
     },
     "metadata": {
      "application/vnd.databricks.v1+output": {
       "addedWidgets": {},
       "aggData": [],
       "aggError": "",
       "aggOverflow": false,
       "aggSchema": [],
       "aggSeriesLimitReached": false,
       "aggType": "",
       "arguments": {},
       "columnCustomDisplayInfos": {},
       "data": [
        [
         "A",
         "North",
         100
        ],
        [
         "B",
         "East",
         200
        ],
        [
         "A",
         "East",
         150
        ],
        [
         "C",
         "North",
         300
        ],
        [
         "B",
         "South",
         400
        ],
        [
         "C",
         "East",
         250
        ]
       ],
       "datasetInfos": [],
       "dbfsResultPath": null,
       "isJsonSchema": true,
       "metadata": {},
       "overflow": false,
       "plotOptions": {
        "customPlotOptions": {},
        "displayType": "table",
        "pivotAggregation": null,
        "pivotColumns": null,
        "xColumns": null,
        "yColumns": null
       },
       "removedWidgets": [],
       "schema": [
        {
         "metadata": "{}",
         "name": "Product",
         "type": "\"string\""
        },
        {
         "metadata": "{}",
         "name": "Region",
         "type": "\"string\""
        },
        {
         "metadata": "{}",
         "name": "Sales",
         "type": "\"long\""
        }
       ],
       "type": "table"
      }
     },
     "output_type": "display_data"
    }
   ],
   "source": [
    "from pyspark.sql import SparkSession\n",
    "from pyspark.sql.functions import sum\n",
    "\n",
    "# Initialize Spark session\n",
    "spark = SparkSession.builder.getOrCreate()\n",
    "\n",
    "# Sample Data\n",
    "data = [\n",
    "    (\"A\", \"North\", 100),\n",
    "    (\"B\", \"East\", 200),\n",
    "    (\"A\", \"East\", 150),\n",
    "    (\"C\", \"North\", 300),\n",
    "    (\"B\", \"South\", 400),\n",
    "    (\"C\", \"East\", 250)\n",
    "]\n",
    "columns = [\"Product\", \"Region\", \"Sales\"]\n",
    "\n",
    "# Create DataFrame\n",
    "df_20= spark.createDataFrame(data, columns)\n",
    "df_20.display()\n"
   ]
  },
  {
   "cell_type": "code",
   "execution_count": 0,
   "metadata": {
    "application/vnd.databricks.v1+cell": {
     "cellMetadata": {
      "byteLimit": 2048000,
      "rowLimit": 10000
     },
     "inputWidgets": {},
     "nuid": "a8fee179-90f0-4f78-bec6-5e260a0d6574",
     "showTitle": false,
     "tableResultSettingsMap": {},
     "title": ""
    }
   },
   "outputs": [
    {
     "output_type": "display_data",
     "data": {
      "text/html": [
       "<style scoped>\n",
       "  .table-result-container {\n",
       "    max-height: 300px;\n",
       "    overflow: auto;\n",
       "  }\n",
       "  table, th, td {\n",
       "    border: 1px solid black;\n",
       "    border-collapse: collapse;\n",
       "  }\n",
       "  th, td {\n",
       "    padding: 5px;\n",
       "  }\n",
       "  th {\n",
       "    text-align: left;\n",
       "  }\n",
       "</style><div class='table-result-container'><table class='table-result'><thead style='background-color: white'><tr><th>Product</th><th>East</th><th>North</th><th>South</th></tr></thead><tbody><tr><td>A</td><td>150</td><td>100</td><td>0</td></tr><tr><td>C</td><td>250</td><td>300</td><td>0</td></tr><tr><td>B</td><td>200</td><td>0</td><td>400</td></tr></tbody></table></div>"
      ]
     },
     "metadata": {
      "application/vnd.databricks.v1+output": {
       "addedWidgets": {},
       "aggData": [],
       "aggError": "",
       "aggOverflow": false,
       "aggSchema": [],
       "aggSeriesLimitReached": false,
       "aggType": "",
       "arguments": {},
       "columnCustomDisplayInfos": {},
       "data": [
        [
         "A",
         150,
         100,
         0
        ],
        [
         "C",
         250,
         300,
         0
        ],
        [
         "B",
         200,
         0,
         400
        ]
       ],
       "datasetInfos": [],
       "dbfsResultPath": null,
       "isJsonSchema": true,
       "metadata": {},
       "overflow": false,
       "plotOptions": {
        "customPlotOptions": {},
        "displayType": "table",
        "pivotAggregation": null,
        "pivotColumns": null,
        "xColumns": null,
        "yColumns": null
       },
       "removedWidgets": [],
       "schema": [
        {
         "metadata": "{}",
         "name": "Product",
         "type": "\"string\""
        },
        {
         "metadata": "{}",
         "name": "East",
         "type": "\"long\""
        },
        {
         "metadata": "{}",
         "name": "North",
         "type": "\"long\""
        },
        {
         "metadata": "{}",
         "name": "South",
         "type": "\"long\""
        }
       ],
       "type": "table"
      }
     },
     "output_type": "display_data"
    }
   ],
   "source": [
    " df_20.groupBy(\"Product\")\\\n",
    "             .pivot(\"Region\")\\\n",
    "             .agg(sum(\"Sales\"))\\\n",
    "             .fillna(0)\\\n",
    "             .display()"
   ]
  },
  {
   "cell_type": "markdown",
   "metadata": {
    "application/vnd.databricks.v1+cell": {
     "cellMetadata": {},
     "inputWidgets": {},
     "nuid": "35c6da91-4eed-46b7-80c3-926ed80180ae",
     "showTitle": false,
     "tableResultSettingsMap": {},
     "title": ""
    }
   },
   "source": [
    "# 21\n",
    "You are given a dataset of employees with the following columns: name, department, salary, and hire_date. You need to calculate the ROW_NUMBER() partitioned by department and ordered by salary in descending order. Additionally, the employees should be ranked within each department based on their hiring date if their salaries are the same. Add a new column called rank to the DataFrame that contains the calculated row numbers.\n",
    "\n",
    "\uD835\uDC2C\uD835\uDC1C\uD835\uDC21\uD835\uDC1E\uD835\uDC26\uD835\uDC1A \uD835\uDC1A\uD835\uDC27\uD835\uDC1D \uD835\uDC1D\uD835\uDC1A\uD835\uDC2D\uD835\uDC1A\uD835\uDC2C\uD835\uDC1E\uD835\uDC2D\n",
    "data = [ (\"John\", \"HR\", 5000, \"2021-05-01\"), \n",
    "(\"Jane\", \"HR\", 6000, \"2022-03-15\"), \n",
    "(\"Sam\", \"Engineering\", 7000, \"2021-06-01\"), \n",
    "(\"Anna\", \"Engineering\", 8000, \"2020-07-01\"), \n",
    "(\"Paul\", \"HR\", 4500, \"2021-05-01\"), \n",
    "(\"Sara\", \"Engineering\", 7000, \"2020-08-01\"), \n",
    "(\"Tom\", \"Engineering\", 7500, \"2021-07-01\") ]\n",
    "\n",
    "Create DataFrame columns = [\"name\", \"department\", \"salary\", \"hire_date\"]"
   ]
  },
  {
   "cell_type": "code",
   "execution_count": 0,
   "metadata": {
    "application/vnd.databricks.v1+cell": {
     "cellMetadata": {
      "byteLimit": 2048000,
      "rowLimit": 10000
     },
     "inputWidgets": {},
     "nuid": "a5e983c0-8844-433f-baa4-db3f44670c1d",
     "showTitle": false,
     "tableResultSettingsMap": {},
     "title": ""
    }
   },
   "outputs": [
    {
     "output_type": "display_data",
     "data": {
      "text/html": [
       "<style scoped>\n",
       "  .table-result-container {\n",
       "    max-height: 300px;\n",
       "    overflow: auto;\n",
       "  }\n",
       "  table, th, td {\n",
       "    border: 1px solid black;\n",
       "    border-collapse: collapse;\n",
       "  }\n",
       "  th, td {\n",
       "    padding: 5px;\n",
       "  }\n",
       "  th {\n",
       "    text-align: left;\n",
       "  }\n",
       "</style><div class='table-result-container'><table class='table-result'><thead style='background-color: white'><tr><th>name</th><th>department</th><th>salary</th><th>hire_date</th></tr></thead><tbody><tr><td>John</td><td>HR</td><td>5000</td><td>2021-05-01</td></tr><tr><td>Jane</td><td>HR</td><td>6000</td><td>2022-03-15</td></tr><tr><td>Sam</td><td>Engineering</td><td>7000</td><td>2021-06-01</td></tr><tr><td>Anna</td><td>Engineering</td><td>8000</td><td>2020-07-01</td></tr><tr><td>Paul</td><td>HR</td><td>4500</td><td>2021-05-01</td></tr><tr><td>Sara</td><td>Engineering</td><td>7000</td><td>2020-08-01</td></tr><tr><td>Tom</td><td>Engineering</td><td>7500</td><td>2021-07-01</td></tr></tbody></table></div>"
      ]
     },
     "metadata": {
      "application/vnd.databricks.v1+output": {
       "addedWidgets": {},
       "aggData": [],
       "aggError": "",
       "aggOverflow": false,
       "aggSchema": [],
       "aggSeriesLimitReached": false,
       "aggType": "",
       "arguments": {},
       "columnCustomDisplayInfos": {},
       "data": [
        [
         "John",
         "HR",
         5000,
         "2021-05-01"
        ],
        [
         "Jane",
         "HR",
         6000,
         "2022-03-15"
        ],
        [
         "Sam",
         "Engineering",
         7000,
         "2021-06-01"
        ],
        [
         "Anna",
         "Engineering",
         8000,
         "2020-07-01"
        ],
        [
         "Paul",
         "HR",
         4500,
         "2021-05-01"
        ],
        [
         "Sara",
         "Engineering",
         7000,
         "2020-08-01"
        ],
        [
         "Tom",
         "Engineering",
         7500,
         "2021-07-01"
        ]
       ],
       "datasetInfos": [],
       "dbfsResultPath": null,
       "isJsonSchema": true,
       "metadata": {},
       "overflow": false,
       "plotOptions": {
        "customPlotOptions": {},
        "displayType": "table",
        "pivotAggregation": null,
        "pivotColumns": null,
        "xColumns": null,
        "yColumns": null
       },
       "removedWidgets": [],
       "schema": [
        {
         "metadata": "{}",
         "name": "name",
         "type": "\"string\""
        },
        {
         "metadata": "{}",
         "name": "department",
         "type": "\"string\""
        },
        {
         "metadata": "{}",
         "name": "salary",
         "type": "\"long\""
        },
        {
         "metadata": "{}",
         "name": "hire_date",
         "type": "\"string\""
        }
       ],
       "type": "table"
      }
     },
     "output_type": "display_data"
    }
   ],
   "source": [
    "from pyspark.sql import SparkSession\n",
    "from pyspark.sql.functions import *\n",
    "from pyspark.sql.types import *\n",
    "from pyspark.sql.window import Window\n",
    "\n",
    "# Initialize Spark session\n",
    "spark = SparkSession.builder.getOrCreate()\n",
    "\n",
    "# Sample data\n",
    "data = [\n",
    "    (\"John\", \"HR\", 5000, \"2021-05-01\"),\n",
    "    (\"Jane\", \"HR\", 6000, \"2022-03-15\"),\n",
    "    (\"Sam\", \"Engineering\", 7000, \"2021-06-01\"),\n",
    "    (\"Anna\", \"Engineering\", 8000, \"2020-07-01\"),\n",
    "    (\"Paul\", \"HR\", 4500, \"2021-05-01\"),\n",
    "    (\"Sara\", \"Engineering\", 7000, \"2020-08-01\"),\n",
    "    (\"Tom\", \"Engineering\", 7500, \"2021-07-01\")\n",
    "]\n",
    "\n",
    "columns = [\"name\", \"department\", \"salary\", \"hire_date\"]\n",
    "df_21 = spark.createDataFrame(data, columns)\n",
    "df_21.display()\n"
   ]
  },
  {
   "cell_type": "code",
   "execution_count": 0,
   "metadata": {
    "application/vnd.databricks.v1+cell": {
     "cellMetadata": {
      "byteLimit": 2048000,
      "rowLimit": 10000
     },
     "inputWidgets": {},
     "nuid": "058240a7-7fb0-4d54-8d4f-0a547c0d8645",
     "showTitle": false,
     "tableResultSettingsMap": {},
     "title": ""
    }
   },
   "outputs": [
    {
     "output_type": "display_data",
     "data": {
      "text/html": [
       "<style scoped>\n",
       "  .table-result-container {\n",
       "    max-height: 300px;\n",
       "    overflow: auto;\n",
       "  }\n",
       "  table, th, td {\n",
       "    border: 1px solid black;\n",
       "    border-collapse: collapse;\n",
       "  }\n",
       "  th, td {\n",
       "    padding: 5px;\n",
       "  }\n",
       "  th {\n",
       "    text-align: left;\n",
       "  }\n",
       "</style><div class='table-result-container'><table class='table-result'><thead style='background-color: white'><tr><th>name</th><th>department</th><th>salary</th><th>hire_date</th><th>rank</th></tr></thead><tbody><tr><td>Anna</td><td>Engineering</td><td>8000</td><td>2020-07-01</td><td>1</td></tr><tr><td>Tom</td><td>Engineering</td><td>7500</td><td>2021-07-01</td><td>2</td></tr><tr><td>Sara</td><td>Engineering</td><td>7000</td><td>2020-08-01</td><td>3</td></tr><tr><td>Sam</td><td>Engineering</td><td>7000</td><td>2021-06-01</td><td>4</td></tr><tr><td>Jane</td><td>HR</td><td>6000</td><td>2022-03-15</td><td>1</td></tr><tr><td>John</td><td>HR</td><td>5000</td><td>2021-05-01</td><td>2</td></tr><tr><td>Paul</td><td>HR</td><td>4500</td><td>2021-05-01</td><td>3</td></tr></tbody></table></div>"
      ]
     },
     "metadata": {
      "application/vnd.databricks.v1+output": {
       "addedWidgets": {},
       "aggData": [],
       "aggError": "",
       "aggOverflow": false,
       "aggSchema": [],
       "aggSeriesLimitReached": false,
       "aggType": "",
       "arguments": {},
       "columnCustomDisplayInfos": {},
       "data": [
        [
         "Anna",
         "Engineering",
         8000,
         "2020-07-01",
         1
        ],
        [
         "Tom",
         "Engineering",
         7500,
         "2021-07-01",
         2
        ],
        [
         "Sara",
         "Engineering",
         7000,
         "2020-08-01",
         3
        ],
        [
         "Sam",
         "Engineering",
         7000,
         "2021-06-01",
         4
        ],
        [
         "Jane",
         "HR",
         6000,
         "2022-03-15",
         1
        ],
        [
         "John",
         "HR",
         5000,
         "2021-05-01",
         2
        ],
        [
         "Paul",
         "HR",
         4500,
         "2021-05-01",
         3
        ]
       ],
       "datasetInfos": [],
       "dbfsResultPath": null,
       "isJsonSchema": true,
       "metadata": {},
       "overflow": false,
       "plotOptions": {
        "customPlotOptions": {},
        "displayType": "table",
        "pivotAggregation": null,
        "pivotColumns": null,
        "xColumns": null,
        "yColumns": null
       },
       "removedWidgets": [],
       "schema": [
        {
         "metadata": "{}",
         "name": "name",
         "type": "\"string\""
        },
        {
         "metadata": "{}",
         "name": "department",
         "type": "\"string\""
        },
        {
         "metadata": "{}",
         "name": "salary",
         "type": "\"long\""
        },
        {
         "metadata": "{}",
         "name": "hire_date",
         "type": "\"string\""
        },
        {
         "metadata": "{}",
         "name": "rank",
         "type": "\"integer\""
        }
       ],
       "type": "table"
      }
     },
     "output_type": "display_data"
    }
   ],
   "source": [
    "df_21=df_21.withColumn(\"rank\",row_number().over(Window.partitionBy(\"department\").orderBy(col(\"salary\").desc(),col(\"hire_date\").asc())))\n",
    "df_21.display()"
   ]
  },
  {
   "cell_type": "markdown",
   "metadata": {
    "application/vnd.databricks.v1+cell": {
     "cellMetadata": {},
     "inputWidgets": {},
     "nuid": "8a9ed1fd-34fd-405e-9856-682551591f89",
     "showTitle": false,
     "tableResultSettingsMap": {},
     "title": ""
    }
   },
   "source": [
    "# 22\n",
    "You have the following dataset containing sales information for different products and regions. Reshape the data using PySpark's pivot() method to calculate the total sales for each product across regions, and then optimize it further by applying specific transformations.\n",
    "\n",
    "Task 1: Use pivot() to create a table showing the total sales for each product by region.\n",
    "\n",
    "Task 2: Add a column calculating the percentage contribution of each region to the total sales for that product.\n",
    "\n",
    "Task 3: Sort the data in descending order by total sales for each product.\n",
    "\n"
   ]
  },
  {
   "cell_type": "markdown",
   "metadata": {
    "application/vnd.databricks.v1+cell": {
     "cellMetadata": {},
     "inputWidgets": {},
     "nuid": "ec2b8a90-03e3-4749-a9cd-90c2ed66a48d",
     "showTitle": false,
     "tableResultSettingsMap": {},
     "title": ""
    }
   },
   "source": [
    "\n",
    "data = [ (\"North\", \"Laptop\", 2000, \"Q1\"), (\"South\", \"Laptop\", 3000, \"Q1\"), (\"East\", \"Laptop\", 2500, \"Q1\"), (\"North\", \"Phone\", 1500, \"Q1\"), \n",
    "(\"South\", \"Phone\", 1000, \"Q1\"), (\"East\", \"Phone\", 2000, \"Q1\"), \n",
    "(\"North\", \"Laptop\", 3000, \"Q2\"), (\"South\", \"Laptop\", 4000, \"Q2\"), \n",
    "(\"East\", \"Laptop\", 3500, \"Q2\"), (\"North\", \"Phone\", 2500, \"Q2\"), \n",
    "(\"South\", \"Phone\", 1500, \"Q2\"), (\"East\", \"Phone\", 3000, \"Q2\"), ] \n",
    "\n",
    "columns = [\"Region\", \"Product\", \"Sales\", \"Quarter\"] "
   ]
  },
  {
   "cell_type": "code",
   "execution_count": 0,
   "metadata": {
    "application/vnd.databricks.v1+cell": {
     "cellMetadata": {
      "byteLimit": 2048000,
      "rowLimit": 10000
     },
     "inputWidgets": {},
     "nuid": "d7ef3dd9-c593-4149-b6a8-a8292160d0bf",
     "showTitle": false,
     "tableResultSettingsMap": {},
     "title": ""
    }
   },
   "outputs": [
    {
     "output_type": "display_data",
     "data": {
      "text/html": [
       "<style scoped>\n",
       "  .table-result-container {\n",
       "    max-height: 300px;\n",
       "    overflow: auto;\n",
       "  }\n",
       "  table, th, td {\n",
       "    border: 1px solid black;\n",
       "    border-collapse: collapse;\n",
       "  }\n",
       "  th, td {\n",
       "    padding: 5px;\n",
       "  }\n",
       "  th {\n",
       "    text-align: left;\n",
       "  }\n",
       "</style><div class='table-result-container'><table class='table-result'><thead style='background-color: white'><tr><th>Region</th><th>Product</th><th>Sales</th><th>Quarter</th></tr></thead><tbody><tr><td>North</td><td>Laptop</td><td>2000</td><td>Q1</td></tr><tr><td>South</td><td>Laptop</td><td>3000</td><td>Q1</td></tr><tr><td>East</td><td>Laptop</td><td>2500</td><td>Q1</td></tr><tr><td>North</td><td>Phone</td><td>1500</td><td>Q1</td></tr><tr><td>South</td><td>Phone</td><td>1000</td><td>Q1</td></tr><tr><td>East</td><td>Phone</td><td>2000</td><td>Q1</td></tr><tr><td>North</td><td>Laptop</td><td>3000</td><td>Q2</td></tr><tr><td>South</td><td>Laptop</td><td>4000</td><td>Q2</td></tr><tr><td>East</td><td>Laptop</td><td>3500</td><td>Q2</td></tr><tr><td>North</td><td>Phone</td><td>2500</td><td>Q2</td></tr><tr><td>South</td><td>Phone</td><td>1500</td><td>Q2</td></tr><tr><td>East</td><td>Phone</td><td>3000</td><td>Q2</td></tr></tbody></table></div>"
      ]
     },
     "metadata": {
      "application/vnd.databricks.v1+output": {
       "addedWidgets": {},
       "aggData": [],
       "aggError": "",
       "aggOverflow": false,
       "aggSchema": [],
       "aggSeriesLimitReached": false,
       "aggType": "",
       "arguments": {},
       "columnCustomDisplayInfos": {},
       "data": [
        [
         "North",
         "Laptop",
         2000,
         "Q1"
        ],
        [
         "South",
         "Laptop",
         3000,
         "Q1"
        ],
        [
         "East",
         "Laptop",
         2500,
         "Q1"
        ],
        [
         "North",
         "Phone",
         1500,
         "Q1"
        ],
        [
         "South",
         "Phone",
         1000,
         "Q1"
        ],
        [
         "East",
         "Phone",
         2000,
         "Q1"
        ],
        [
         "North",
         "Laptop",
         3000,
         "Q2"
        ],
        [
         "South",
         "Laptop",
         4000,
         "Q2"
        ],
        [
         "East",
         "Laptop",
         3500,
         "Q2"
        ],
        [
         "North",
         "Phone",
         2500,
         "Q2"
        ],
        [
         "South",
         "Phone",
         1500,
         "Q2"
        ],
        [
         "East",
         "Phone",
         3000,
         "Q2"
        ]
       ],
       "datasetInfos": [],
       "dbfsResultPath": null,
       "isJsonSchema": true,
       "metadata": {},
       "overflow": false,
       "plotOptions": {
        "customPlotOptions": {},
        "displayType": "table",
        "pivotAggregation": null,
        "pivotColumns": null,
        "xColumns": null,
        "yColumns": null
       },
       "removedWidgets": [],
       "schema": [
        {
         "metadata": "{}",
         "name": "Region",
         "type": "\"string\""
        },
        {
         "metadata": "{}",
         "name": "Product",
         "type": "\"string\""
        },
        {
         "metadata": "{}",
         "name": "Sales",
         "type": "\"long\""
        },
        {
         "metadata": "{}",
         "name": "Quarter",
         "type": "\"string\""
        }
       ],
       "type": "table"
      }
     },
     "output_type": "display_data"
    }
   ],
   "source": [
    "from pyspark.sql import SparkSession\n",
    "from pyspark.sql.functions import sum, col, round\n",
    "\n",
    "spark = SparkSession.builder.getOrCreate()\n",
    "\n",
    "data = [\n",
    "    (\"North\", \"Laptop\", 2000, \"Q1\"),\n",
    "    (\"South\", \"Laptop\", 3000, \"Q1\"),\n",
    "    (\"East\", \"Laptop\", 2500, \"Q1\"),\n",
    "    (\"North\", \"Phone\", 1500, \"Q1\"),\n",
    "    (\"South\", \"Phone\", 1000, \"Q1\"),\n",
    "    (\"East\", \"Phone\", 2000, \"Q1\"),\n",
    "    (\"North\", \"Laptop\", 3000, \"Q2\"),\n",
    "    (\"South\", \"Laptop\", 4000, \"Q2\"),\n",
    "    (\"East\", \"Laptop\", 3500, \"Q2\"),\n",
    "    (\"North\", \"Phone\", 2500, \"Q2\"),\n",
    "    (\"South\", \"Phone\", 1500, \"Q2\"),\n",
    "    (\"East\", \"Phone\", 3000, \"Q2\"),\n",
    "]\n",
    "\n",
    "columns = [\"Region\", \"Product\", \"Sales\", \"Quarter\"]\n",
    "\n",
    "df_22 = spark.createDataFrame(data, columns)\n",
    "df_22.display()\n"
   ]
  },
  {
   "cell_type": "code",
   "execution_count": 0,
   "metadata": {
    "application/vnd.databricks.v1+cell": {
     "cellMetadata": {
      "byteLimit": 2048000,
      "rowLimit": 10000
     },
     "inputWidgets": {},
     "nuid": "1d3bdac6-b4e1-44de-82e3-0e09d2060556",
     "showTitle": false,
     "tableResultSettingsMap": {},
     "title": ""
    }
   },
   "outputs": [
    {
     "output_type": "display_data",
     "data": {
      "text/html": [
       "<style scoped>\n",
       "  .table-result-container {\n",
       "    max-height: 300px;\n",
       "    overflow: auto;\n",
       "  }\n",
       "  table, th, td {\n",
       "    border: 1px solid black;\n",
       "    border-collapse: collapse;\n",
       "  }\n",
       "  th, td {\n",
       "    padding: 5px;\n",
       "  }\n",
       "  th {\n",
       "    text-align: left;\n",
       "  }\n",
       "</style><div class='table-result-container'><table class='table-result'><thead style='background-color: white'><tr><th>Region</th><th>Product</th><th>Total_sales</th></tr></thead><tbody><tr><td>North</td><td>Laptop</td><td>5000</td></tr><tr><td>South</td><td>Laptop</td><td>7000</td></tr><tr><td>East</td><td>Laptop</td><td>6000</td></tr><tr><td>North</td><td>Phone</td><td>4000</td></tr><tr><td>South</td><td>Phone</td><td>2500</td></tr><tr><td>East</td><td>Phone</td><td>5000</td></tr></tbody></table></div>"
      ]
     },
     "metadata": {
      "application/vnd.databricks.v1+output": {
       "addedWidgets": {},
       "aggData": [],
       "aggError": "",
       "aggOverflow": false,
       "aggSchema": [],
       "aggSeriesLimitReached": false,
       "aggType": "",
       "arguments": {},
       "columnCustomDisplayInfos": {},
       "data": [
        [
         "North",
         "Laptop",
         5000
        ],
        [
         "South",
         "Laptop",
         7000
        ],
        [
         "East",
         "Laptop",
         6000
        ],
        [
         "North",
         "Phone",
         4000
        ],
        [
         "South",
         "Phone",
         2500
        ],
        [
         "East",
         "Phone",
         5000
        ]
       ],
       "datasetInfos": [],
       "dbfsResultPath": null,
       "isJsonSchema": true,
       "metadata": {},
       "overflow": false,
       "plotOptions": {
        "customPlotOptions": {},
        "displayType": "table",
        "pivotAggregation": null,
        "pivotColumns": null,
        "xColumns": null,
        "yColumns": null
       },
       "removedWidgets": [],
       "schema": [
        {
         "metadata": "{}",
         "name": "Region",
         "type": "\"string\""
        },
        {
         "metadata": "{}",
         "name": "Product",
         "type": "\"string\""
        },
        {
         "metadata": "{}",
         "name": "Total_sales",
         "type": "\"long\""
        }
       ],
       "type": "table"
      }
     },
     "output_type": "display_data"
    }
   ],
   "source": [
    "df_22_group=df_22.groupBy(\"Region\",\"Product\").agg(sum(\"Sales\").alias(\"Total_sales\"))\n",
    "df_22_group.display()"
   ]
  },
  {
   "cell_type": "markdown",
   "metadata": {
    "application/vnd.databricks.v1+cell": {
     "cellMetadata": {},
     "inputWidgets": {},
     "nuid": "caf82092-c7de-4d26-9c86-9ef74833433d",
     "showTitle": false,
     "tableResultSettingsMap": {},
     "title": ""
    }
   },
   "source": [
    "# Task 1: Pivot → Total Sales by Product & Region"
   ]
  },
  {
   "cell_type": "code",
   "execution_count": 0,
   "metadata": {
    "application/vnd.databricks.v1+cell": {
     "cellMetadata": {
      "byteLimit": 2048000,
      "rowLimit": 10000
     },
     "inputWidgets": {},
     "nuid": "82e619ab-3c34-4d78-997e-bcd6c6ad2b48",
     "showTitle": false,
     "tableResultSettingsMap": {},
     "title": ""
    }
   },
   "outputs": [],
   "source": [
    "df_22_group=df_22_group.groupby(\"Product\")\\\n",
    "    .pivot(\"Region\")\\\n",
    "    .agg(sum(\"Total_sales\"))"
   ]
  },
  {
   "cell_type": "code",
   "execution_count": 0,
   "metadata": {
    "application/vnd.databricks.v1+cell": {
     "cellMetadata": {
      "byteLimit": 2048000,
      "rowLimit": 10000
     },
     "inputWidgets": {},
     "nuid": "9ea123df-7745-42c4-8ffc-c8963d144ff4",
     "showTitle": false,
     "tableResultSettingsMap": {},
     "title": ""
    }
   },
   "outputs": [
    {
     "output_type": "display_data",
     "data": {
      "text/html": [
       "<style scoped>\n",
       "  .table-result-container {\n",
       "    max-height: 300px;\n",
       "    overflow: auto;\n",
       "  }\n",
       "  table, th, td {\n",
       "    border: 1px solid black;\n",
       "    border-collapse: collapse;\n",
       "  }\n",
       "  th, td {\n",
       "    padding: 5px;\n",
       "  }\n",
       "  th {\n",
       "    text-align: left;\n",
       "  }\n",
       "</style><div class='table-result-container'><table class='table-result'><thead style='background-color: white'><tr><th>Product</th><th>East</th><th>North</th><th>South</th></tr></thead><tbody><tr><td>Laptop</td><td>6000</td><td>5000</td><td>7000</td></tr><tr><td>Phone</td><td>5000</td><td>4000</td><td>2500</td></tr></tbody></table></div>"
      ]
     },
     "metadata": {
      "application/vnd.databricks.v1+output": {
       "addedWidgets": {},
       "aggData": [],
       "aggError": "",
       "aggOverflow": false,
       "aggSchema": [],
       "aggSeriesLimitReached": false,
       "aggType": "",
       "arguments": {},
       "columnCustomDisplayInfos": {},
       "data": [
        [
         "Laptop",
         6000,
         5000,
         7000
        ],
        [
         "Phone",
         5000,
         4000,
         2500
        ]
       ],
       "datasetInfos": [],
       "dbfsResultPath": null,
       "isJsonSchema": true,
       "metadata": {},
       "overflow": false,
       "plotOptions": {
        "customPlotOptions": {},
        "displayType": "table",
        "pivotAggregation": null,
        "pivotColumns": null,
        "xColumns": null,
        "yColumns": null
       },
       "removedWidgets": [],
       "schema": [
        {
         "metadata": "{}",
         "name": "Product",
         "type": "\"string\""
        },
        {
         "metadata": "{}",
         "name": "East",
         "type": "\"long\""
        },
        {
         "metadata": "{}",
         "name": "North",
         "type": "\"long\""
        },
        {
         "metadata": "{}",
         "name": "South",
         "type": "\"long\""
        }
       ],
       "type": "table"
      }
     },
     "output_type": "display_data"
    }
   ],
   "source": [
    "df_22_group.display()"
   ]
  },
  {
   "cell_type": "markdown",
   "metadata": {
    "application/vnd.databricks.v1+cell": {
     "cellMetadata": {},
     "inputWidgets": {},
     "nuid": "9c7c54a0-3a41-426e-bc4b-5c55b7eae9ac",
     "showTitle": false,
     "tableResultSettingsMap": {},
     "title": ""
    }
   },
   "source": [
    "#  Task 2: Add % Contribution per Region"
   ]
  },
  {
   "cell_type": "code",
   "execution_count": 0,
   "metadata": {
    "application/vnd.databricks.v1+cell": {
     "cellMetadata": {
      "byteLimit": 2048000,
      "rowLimit": 10000
     },
     "inputWidgets": {},
     "nuid": "93de7a54-a212-4e9e-ae6a-ee2ed84d306c",
     "showTitle": false,
     "tableResultSettingsMap": {},
     "title": ""
    }
   },
   "outputs": [
    {
     "output_type": "display_data",
     "data": {
      "text/html": [
       "<style scoped>\n",
       "  .table-result-container {\n",
       "    max-height: 300px;\n",
       "    overflow: auto;\n",
       "  }\n",
       "  table, th, td {\n",
       "    border: 1px solid black;\n",
       "    border-collapse: collapse;\n",
       "  }\n",
       "  th, td {\n",
       "    padding: 5px;\n",
       "  }\n",
       "  th {\n",
       "    text-align: left;\n",
       "  }\n",
       "</style><div class='table-result-container'><table class='table-result'><thead style='background-color: white'><tr><th>Product</th><th>East</th><th>North</th><th>South</th><th>total</th></tr></thead><tbody><tr><td>Laptop</td><td>6000</td><td>5000</td><td>7000</td><td>18000</td></tr><tr><td>Phone</td><td>5000</td><td>4000</td><td>2500</td><td>11500</td></tr></tbody></table></div>"
      ]
     },
     "metadata": {
      "application/vnd.databricks.v1+output": {
       "addedWidgets": {},
       "aggData": [],
       "aggError": "",
       "aggOverflow": false,
       "aggSchema": [],
       "aggSeriesLimitReached": false,
       "aggType": "",
       "arguments": {},
       "columnCustomDisplayInfos": {},
       "data": [
        [
         "Laptop",
         6000,
         5000,
         7000,
         18000
        ],
        [
         "Phone",
         5000,
         4000,
         2500,
         11500
        ]
       ],
       "datasetInfos": [],
       "dbfsResultPath": null,
       "isJsonSchema": true,
       "metadata": {},
       "overflow": false,
       "plotOptions": {
        "customPlotOptions": {},
        "displayType": "table",
        "pivotAggregation": null,
        "pivotColumns": null,
        "xColumns": null,
        "yColumns": null
       },
       "removedWidgets": [],
       "schema": [
        {
         "metadata": "{}",
         "name": "Product",
         "type": "\"string\""
        },
        {
         "metadata": "{}",
         "name": "East",
         "type": "\"long\""
        },
        {
         "metadata": "{}",
         "name": "North",
         "type": "\"long\""
        },
        {
         "metadata": "{}",
         "name": "South",
         "type": "\"long\""
        },
        {
         "metadata": "{}",
         "name": "total",
         "type": "\"long\""
        }
       ],
       "type": "table"
      }
     },
     "output_type": "display_data"
    }
   ],
   "source": [
    "df_22_group=df_22_group.withColumn(\"total\",col(\"east\")+col(\"north\")+col(\"south\"))\n",
    "df_22_group.display()"
   ]
  },
  {
   "cell_type": "code",
   "execution_count": 0,
   "metadata": {
    "application/vnd.databricks.v1+cell": {
     "cellMetadata": {
      "byteLimit": 2048000,
      "rowLimit": 10000
     },
     "inputWidgets": {},
     "nuid": "f157772b-555f-4d54-9151-a6237a6c7bea",
     "showTitle": false,
     "tableResultSettingsMap": {},
     "title": ""
    }
   },
   "outputs": [],
   "source": [
    "df_final_22=df_22_group.withColumn(\"East_per\",round(col(\"East\")/col(\"total\")*100,2))\\\n",
    "    .withColumn(\"North_per\",round((col(\"North\")/col(\"total\"))*100,2))\\\n",
    "    .withColumn(\"South_per\",round((col(\"South\")/col(\"total\"))*100,2))"
   ]
  },
  {
   "cell_type": "code",
   "execution_count": 0,
   "metadata": {
    "application/vnd.databricks.v1+cell": {
     "cellMetadata": {
      "byteLimit": 2048000,
      "rowLimit": 10000
     },
     "inputWidgets": {},
     "nuid": "c568d6a0-8ced-4e06-bab7-ba9f1822f857",
     "showTitle": false,
     "tableResultSettingsMap": {},
     "title": ""
    }
   },
   "outputs": [
    {
     "output_type": "display_data",
     "data": {
      "text/html": [
       "<style scoped>\n",
       "  .table-result-container {\n",
       "    max-height: 300px;\n",
       "    overflow: auto;\n",
       "  }\n",
       "  table, th, td {\n",
       "    border: 1px solid black;\n",
       "    border-collapse: collapse;\n",
       "  }\n",
       "  th, td {\n",
       "    padding: 5px;\n",
       "  }\n",
       "  th {\n",
       "    text-align: left;\n",
       "  }\n",
       "</style><div class='table-result-container'><table class='table-result'><thead style='background-color: white'><tr><th>Product</th><th>East</th><th>North</th><th>South</th><th>total</th><th>East_per</th><th>North_per</th><th>South_per</th></tr></thead><tbody><tr><td>Laptop</td><td>6000</td><td>5000</td><td>7000</td><td>18000</td><td>33.33</td><td>27.78</td><td>38.89</td></tr><tr><td>Phone</td><td>5000</td><td>4000</td><td>2500</td><td>11500</td><td>43.48</td><td>34.78</td><td>21.74</td></tr></tbody></table></div>"
      ]
     },
     "metadata": {
      "application/vnd.databricks.v1+output": {
       "addedWidgets": {},
       "aggData": [],
       "aggError": "",
       "aggOverflow": false,
       "aggSchema": [],
       "aggSeriesLimitReached": false,
       "aggType": "",
       "arguments": {},
       "columnCustomDisplayInfos": {},
       "data": [
        [
         "Laptop",
         6000,
         5000,
         7000,
         18000,
         33.33,
         27.78,
         38.89
        ],
        [
         "Phone",
         5000,
         4000,
         2500,
         11500,
         43.48,
         34.78,
         21.74
        ]
       ],
       "datasetInfos": [],
       "dbfsResultPath": null,
       "isJsonSchema": true,
       "metadata": {},
       "overflow": false,
       "plotOptions": {
        "customPlotOptions": {},
        "displayType": "table",
        "pivotAggregation": null,
        "pivotColumns": null,
        "xColumns": null,
        "yColumns": null
       },
       "removedWidgets": [],
       "schema": [
        {
         "metadata": "{}",
         "name": "Product",
         "type": "\"string\""
        },
        {
         "metadata": "{}",
         "name": "East",
         "type": "\"long\""
        },
        {
         "metadata": "{}",
         "name": "North",
         "type": "\"long\""
        },
        {
         "metadata": "{}",
         "name": "South",
         "type": "\"long\""
        },
        {
         "metadata": "{}",
         "name": "total",
         "type": "\"long\""
        },
        {
         "metadata": "{}",
         "name": "East_per",
         "type": "\"double\""
        },
        {
         "metadata": "{}",
         "name": "North_per",
         "type": "\"double\""
        },
        {
         "metadata": "{}",
         "name": "South_per",
         "type": "\"double\""
        }
       ],
       "type": "table"
      }
     },
     "output_type": "display_data"
    }
   ],
   "source": [
    "df_final_22.display()"
   ]
  },
  {
   "cell_type": "code",
   "execution_count": 0,
   "metadata": {
    "application/vnd.databricks.v1+cell": {
     "cellMetadata": {
      "byteLimit": 2048000,
      "rowLimit": 10000
     },
     "inputWidgets": {},
     "nuid": "065314b5-7cfa-44d6-85b5-de1a18f3c6a1",
     "showTitle": false,
     "tableResultSettingsMap": {},
     "title": ""
    }
   },
   "outputs": [
    {
     "output_type": "display_data",
     "data": {
      "text/html": [
       "<style scoped>\n",
       "  .table-result-container {\n",
       "    max-height: 300px;\n",
       "    overflow: auto;\n",
       "  }\n",
       "  table, th, td {\n",
       "    border: 1px solid black;\n",
       "    border-collapse: collapse;\n",
       "  }\n",
       "  th, td {\n",
       "    padding: 5px;\n",
       "  }\n",
       "  th {\n",
       "    text-align: left;\n",
       "  }\n",
       "</style><div class='table-result-container'><table class='table-result'><thead style='background-color: white'><tr><th>Product</th><th>East</th><th>North</th><th>South</th><th>total</th><th>East_per</th><th>North_per</th><th>South_per</th></tr></thead><tbody><tr><td>Laptop</td><td>6000</td><td>5000</td><td>7000</td><td>18000</td><td>33.33</td><td>27.78</td><td>38.89</td></tr><tr><td>Phone</td><td>5000</td><td>4000</td><td>2500</td><td>11500</td><td>43.48</td><td>34.78</td><td>21.74</td></tr></tbody></table></div>"
      ]
     },
     "metadata": {
      "application/vnd.databricks.v1+output": {
       "addedWidgets": {},
       "aggData": [],
       "aggError": "",
       "aggOverflow": false,
       "aggSchema": [],
       "aggSeriesLimitReached": false,
       "aggType": "",
       "arguments": {},
       "columnCustomDisplayInfos": {},
       "data": [
        [
         "Laptop",
         6000,
         5000,
         7000,
         18000,
         33.33,
         27.78,
         38.89
        ],
        [
         "Phone",
         5000,
         4000,
         2500,
         11500,
         43.48,
         34.78,
         21.74
        ]
       ],
       "datasetInfos": [],
       "dbfsResultPath": null,
       "isJsonSchema": true,
       "metadata": {},
       "overflow": false,
       "plotOptions": {
        "customPlotOptions": {},
        "displayType": "table",
        "pivotAggregation": null,
        "pivotColumns": null,
        "xColumns": null,
        "yColumns": null
       },
       "removedWidgets": [],
       "schema": [
        {
         "metadata": "{}",
         "name": "Product",
         "type": "\"string\""
        },
        {
         "metadata": "{}",
         "name": "East",
         "type": "\"long\""
        },
        {
         "metadata": "{}",
         "name": "North",
         "type": "\"long\""
        },
        {
         "metadata": "{}",
         "name": "South",
         "type": "\"long\""
        },
        {
         "metadata": "{}",
         "name": "total",
         "type": "\"long\""
        },
        {
         "metadata": "{}",
         "name": "East_per",
         "type": "\"double\""
        },
        {
         "metadata": "{}",
         "name": "North_per",
         "type": "\"double\""
        },
        {
         "metadata": "{}",
         "name": "South_per",
         "type": "\"double\""
        }
       ],
       "type": "table"
      }
     },
     "output_type": "display_data"
    }
   ],
   "source": [
    "df_final_22.orderBy(col(\"total\").desc())\n",
    "df_final_22.display()"
   ]
  },
  {
   "cell_type": "markdown",
   "metadata": {
    "application/vnd.databricks.v1+cell": {
     "cellMetadata": {},
     "inputWidgets": {},
     "nuid": "7b77bf52-69cd-42de-97bc-977d6043050f",
     "showTitle": false,
     "tableResultSettingsMap": {},
     "title": ""
    }
   },
   "source": [
    "# 23\n",
    "Reading and Processing CSV Data\n",
    "Let's assume you have a CSV file named employees.csv with the following content:\n",
    "You are tasked with analyzing employee data from a CSV file using PySpark. Your tasks are as follows:\n",
    "Read the CSV file into a PySpark DataFrame.\n",
    "Find the total number of employees in each department.\n",
    "Calculate the average salary of employees in each department.\n",
    "Filter and display employees who joined after 2020-01-01 and belong to the \"HR\" department.\n",
    "Save the filtered results to a new CSV file named filtered_employees.csv.\n",
    "\n",
    "\uD835\uDC2C\uD835\uDC1C\uD835\uDC21\uD835\uDC1E\uD835\uDC26\uD835\uDC1A \uD835\uDC1A\uD835\uDC27\uD835\uDC1D \uD835\uDC1D\uD835\uDC1A\uD835\uDC2D\uD835\uDC1A\uD835\uDC2C\uD835\uDC1E\uD835\uDC2D\n",
    "data = [ (1, \"John Doe\", \"IT\", 80000, \"2021-01-15\"), \n",
    "(2, \"Jane Smith\", \"HR\", 70000, \"2020-05-22\"),\n",
    "(3, \"Robert Brown\", \"IT\", 85000, \"2019-11-03\"), \n",
    "(4, \"Emily Davis\", \"Finance\", 90000, \"2022-07-19\"), \n",
    "(5, \"Michael Johnson\", \"HR\", 75000, \"2023-03-11\"), ]\n",
    "\n",
    " columns = [\"EmployeeID\", \"Name\", \"Department\", \"Salary\", \"JoinDate\"]"
   ]
  },
  {
   "cell_type": "code",
   "execution_count": 0,
   "metadata": {
    "application/vnd.databricks.v1+cell": {
     "cellMetadata": {},
     "inputWidgets": {},
     "nuid": "2309ee0b-6670-40f2-b662-71528f17a0ab",
     "showTitle": false,
     "tableResultSettingsMap": {},
     "title": ""
    }
   },
   "outputs": [],
   "source": []
  },
  {
   "cell_type": "markdown",
   "metadata": {
    "application/vnd.databricks.v1+cell": {
     "cellMetadata": {},
     "inputWidgets": {},
     "nuid": "8da2f3f2-7dd2-45d1-bae3-44d82c101ad8",
     "showTitle": false,
     "tableResultSettingsMap": {},
     "title": ""
    }
   },
   "source": [
    "# 24\n",
    "You are given a nested JSON file named sample_data.json stored in an S3 bucket at s3://your-bucket/sample_data.json. The JSON file contains details about employees, including their names, departments, and address details (nested fields).\n",
    "Write a PySpark program to:\n",
    "Load the JSON file into a DataFrame.\n",
    "Flatten the nested structure to create a tabular format.\n",
    "Write the resulting DataFrame as a Parquet file to the output path s3://your-bucket/output/.\n",
    "\n",
    "\uD835\uDC2C\uD835\uDC1C\uD835\uDC21\uD835\uDC1E\uD835\uDC26\uD835\uDC1A JSON Data (sample_data.json)\n",
    "[\n",
    " {\n",
    " \"id\": 1,\n",
    " \"name\": \"Alice\",\n",
    " \"department\": \"HR\",\n",
    " \"address\": {\n",
    " \"city\": \"New York\",\n",
    " \"state\": \"NY\"\n",
    " }\n",
    " },\n",
    " {\n",
    " \"id\": 2,\n",
    " \"name\": \"Bob\",\n",
    " \"department\": \"IT\",\n",
    " \"address\": {\n",
    " \"city\": \"San Francisco\",\n",
    " \"state\": \"CA\"\n",
    " }\n",
    " },\n",
    " {\n",
    " \"id\": 3,\n",
    " \"name\": \"Charlie\",\n",
    " \"department\": \"Finance\",\n",
    " \"address\": {\n",
    " \"city\": \"Chicago\",\n",
    " \"state\": \"IL\"\n",
    " }\n",
    " }\n",
    "]\n",
    "Explanation:\n",
    "Step 1: The JSON file is loaded into a DataFrame using spark.read.json().\n",
    "Step 2: The select() method is used to extract and rename nested fields (address.city and address.state) to create a flattened structure.\n",
    "Step 3: The resulting DataFrame is written as a Parquet file using write.parquet().\n"
   ]
  },
  {
   "cell_type": "markdown",
   "metadata": {
    "application/vnd.databricks.v1+cell": {
     "cellMetadata": {},
     "inputWidgets": {},
     "nuid": "608e3ce0-d990-403d-9308-bfba8036e9f0",
     "showTitle": false,
     "tableResultSettingsMap": {},
     "title": ""
    }
   },
   "source": [
    "\n",
    "\uD835\uDC2C\uD835\uDC1C\uD835\uDC21\uD835\uDC1E\uD835\uDC26\uD835\uDC1A JSON Data (sample_data.json)\n",
    "[\n",
    " {\n",
    " \"id\": 1,\n",
    " \"name\": \"Alice\",\n",
    " \"department\": \"HR\",\n",
    " \"address\": {\n",
    " \"city\": \"New York\",\n",
    " \"state\": \"NY\"\n",
    " }\n",
    " },\n",
    " {\n",
    " \"id\": 2,\n",
    " \"name\": \"Bob\",\n",
    " \"department\": \"IT\",\n",
    " \"address\": {\n",
    " \"city\": \"San Francisco\",\n",
    " \"state\": \"CA\"\n",
    " }\n",
    " },\n",
    " {\n",
    " \"id\": 3,\n",
    " \"name\": \"Charlie\",\n",
    " \"department\": \"Finance\",\n",
    " \"address\": {\n",
    " \"city\": \"Chicago\",\n",
    " \"state\": \"IL\"\n",
    " }\n",
    " }\n",
    "]\n",
    "Explanation:\n",
    "Step 1: The JSON file is loaded into a DataFrame using spark.read.json().\n",
    "Step 2: The select() method is used to extract and rename nested fields (address.city and address.state) to create a flattened structure.\n",
    "Step 3: The resulting DataFrame is written as a Parquet file using write.parquet().\n"
   ]
  },
  {
   "cell_type": "code",
   "execution_count": 0,
   "metadata": {
    "application/vnd.databricks.v1+cell": {
     "cellMetadata": {},
     "inputWidgets": {},
     "nuid": "2aea40cd-68b8-4ebf-bb5c-7a6e5f07ff37",
     "showTitle": false,
     "tableResultSettingsMap": {},
     "title": ""
    }
   },
   "outputs": [],
   "source": []
  },
  {
   "cell_type": "markdown",
   "metadata": {
    "application/vnd.databricks.v1+cell": {
     "cellMetadata": {},
     "inputWidgets": {},
     "nuid": "78f01e55-300f-44db-9253-579f64434d2e",
     "showTitle": false,
     "tableResultSettingsMap": {},
     "title": ""
    }
   },
   "source": [
    "# 25\n",
    "Given two datasets, products and sales, write a PySpark program to identify products that have never been sold. Assume the schema of products is (product_id, product_name) and the schema of sales is (sale_id, product_id, sale_date).\n",
    "\n",
    "\uD835\uDC2C\uD835\uDC1C\uD835\uDC21\uD835\uDC1E\uD835\uDC26\uD835\uDC1A \n",
    "Create DataFrame for products \n",
    "\n",
    "products = spark.createDataFrame([ (1, \"Laptop\"), (2, \"Tablet\"), \n",
    "(3, \"Smartphone\"), (4, \"Monitor\"), \n",
    "(5, \"Keyboard\") ], [\"product_id\", \"product_name\"]) \n",
    "\n",
    "Create DataFrame for sales \n",
    "\n",
    "sales = spark.createDataFrame([ (101, 1, \"2025-01-01\"), (102, 3, \"2025-01-02\"), (103, 5, \"2025-01-03\") ], [\"sale_id\", \"product_id\", \"sale_date\"]) \n"
   ]
  },
  {
   "cell_type": "code",
   "execution_count": 0,
   "metadata": {
    "application/vnd.databricks.v1+cell": {
     "cellMetadata": {},
     "inputWidgets": {},
     "nuid": "613cb0bb-0bfd-405c-938a-23c9d2a87b5e",
     "showTitle": false,
     "tableResultSettingsMap": {},
     "title": ""
    }
   },
   "outputs": [],
   "source": []
  }
 ],
 "metadata": {
  "application/vnd.databricks.v1+notebook": {
   "computePreferences": null,
   "dashboards": [],
   "environmentMetadata": {
    "base_environment": "",
    "environment_version": "2"
   },
   "inputWidgetPreferences": null,
   "language": "python",
   "notebookMetadata": {
    "pythonIndentUnit": 4
   },
   "notebookName": "LinkedIn_Questions_From_Start-2",
   "widgets": {}
  },
  "language_info": {
   "name": "python"
  }
 },
 "nbformat": 4,
 "nbformat_minor": 0
}